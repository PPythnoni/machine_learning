{
  "nbformat": 4,
  "nbformat_minor": 0,
  "metadata": {
    "colab": {
      "name": "real_estate_regmodel.ipynb",
      "provenance": [],
      "collapsed_sections": []
    },
    "kernelspec": {
      "name": "python3",
      "display_name": "Python 3"
    }
  },
  "cells": [
    {
      "cell_type": "markdown",
      "metadata": {
        "id": "hX6mpRW9WIxm",
        "colab_type": "text"
      },
      "source": [
        "**Objectives**:\n",
        "1. Clean up the data\n",
        "2. Predict the prices"
      ]
    },
    {
      "cell_type": "code",
      "metadata": {
        "id": "DreZVNkQx81W",
        "colab_type": "code",
        "colab": {}
      },
      "source": [
        "import pandas as pd\n",
        "import numpy as np"
      ],
      "execution_count": null,
      "outputs": []
    },
    {
      "cell_type": "code",
      "metadata": {
        "id": "FYrcN1Dht1MS",
        "colab_type": "code",
        "colab": {}
      },
      "source": [
        "data = pd.read_csv(\"kuala_lumpur.csv\")"
      ],
      "execution_count": null,
      "outputs": []
    },
    {
      "cell_type": "code",
      "metadata": {
        "id": "0jyfsj6FvsiU",
        "colab_type": "code",
        "colab": {
          "base_uri": "https://localhost:8080/",
          "height": 191
        },
        "outputId": "47535569-31ae-4086-b875-ec5034141c5d"
      },
      "source": [
        "data.head()"
      ],
      "execution_count": null,
      "outputs": [
        {
          "output_type": "execute_result",
          "data": {
            "text/html": [
              "<div>\n",
              "<style scoped>\n",
              "    .dataframe tbody tr th:only-of-type {\n",
              "        vertical-align: middle;\n",
              "    }\n",
              "\n",
              "    .dataframe tbody tr th {\n",
              "        vertical-align: top;\n",
              "    }\n",
              "\n",
              "    .dataframe thead th {\n",
              "        text-align: right;\n",
              "    }\n",
              "</style>\n",
              "<table border=\"1\" class=\"dataframe\">\n",
              "  <thead>\n",
              "    <tr style=\"text-align: right;\">\n",
              "      <th></th>\n",
              "      <th>Location</th>\n",
              "      <th>Price</th>\n",
              "      <th>Rooms</th>\n",
              "      <th>Bathrooms</th>\n",
              "      <th>Car Parks</th>\n",
              "      <th>Property Type</th>\n",
              "      <th>Size</th>\n",
              "      <th>Furnishing</th>\n",
              "    </tr>\n",
              "  </thead>\n",
              "  <tbody>\n",
              "    <tr>\n",
              "      <th>0</th>\n",
              "      <td>KLCC, Kuala Lumpur</td>\n",
              "      <td>RM 1,250,000</td>\n",
              "      <td>2+1</td>\n",
              "      <td>3.0</td>\n",
              "      <td>2.0</td>\n",
              "      <td>Serviced Residence</td>\n",
              "      <td>Built-up : 1,335 sq. ft.</td>\n",
              "      <td>Fully Furnished</td>\n",
              "    </tr>\n",
              "    <tr>\n",
              "      <th>1</th>\n",
              "      <td>Damansara Heights, Kuala Lumpur</td>\n",
              "      <td>RM 6,800,000</td>\n",
              "      <td>6</td>\n",
              "      <td>7.0</td>\n",
              "      <td>NaN</td>\n",
              "      <td>Bungalow</td>\n",
              "      <td>Land area : 6900 sq. ft.</td>\n",
              "      <td>Partly Furnished</td>\n",
              "    </tr>\n",
              "    <tr>\n",
              "      <th>2</th>\n",
              "      <td>Dutamas, Kuala Lumpur</td>\n",
              "      <td>RM 1,030,000</td>\n",
              "      <td>3</td>\n",
              "      <td>4.0</td>\n",
              "      <td>2.0</td>\n",
              "      <td>Condominium (Corner)</td>\n",
              "      <td>Built-up : 1,875 sq. ft.</td>\n",
              "      <td>Partly Furnished</td>\n",
              "    </tr>\n",
              "    <tr>\n",
              "      <th>3</th>\n",
              "      <td>Cheras, Kuala Lumpur</td>\n",
              "      <td>NaN</td>\n",
              "      <td>NaN</td>\n",
              "      <td>NaN</td>\n",
              "      <td>NaN</td>\n",
              "      <td>NaN</td>\n",
              "      <td>NaN</td>\n",
              "      <td>NaN</td>\n",
              "    </tr>\n",
              "    <tr>\n",
              "      <th>4</th>\n",
              "      <td>Bukit Jalil, Kuala Lumpur</td>\n",
              "      <td>RM 900,000</td>\n",
              "      <td>4+1</td>\n",
              "      <td>3.0</td>\n",
              "      <td>2.0</td>\n",
              "      <td>Condominium (Corner)</td>\n",
              "      <td>Built-up : 1,513 sq. ft.</td>\n",
              "      <td>Partly Furnished</td>\n",
              "    </tr>\n",
              "  </tbody>\n",
              "</table>\n",
              "</div>"
            ],
            "text/plain": [
              "                          Location  ...        Furnishing\n",
              "0               KLCC, Kuala Lumpur  ...   Fully Furnished\n",
              "1  Damansara Heights, Kuala Lumpur  ...  Partly Furnished\n",
              "2            Dutamas, Kuala Lumpur  ...  Partly Furnished\n",
              "3             Cheras, Kuala Lumpur  ...               NaN\n",
              "4        Bukit Jalil, Kuala Lumpur  ...  Partly Furnished\n",
              "\n",
              "[5 rows x 8 columns]"
            ]
          },
          "metadata": {
            "tags": []
          },
          "execution_count": 528
        }
      ]
    },
    {
      "cell_type": "code",
      "metadata": {
        "id": "kLFwhjsav-ZZ",
        "colab_type": "code",
        "colab": {
          "base_uri": "https://localhost:8080/",
          "height": 33
        },
        "outputId": "c6ccbcad-2c47-45bb-d8ab-1cb097157042"
      },
      "source": [
        "data.shape"
      ],
      "execution_count": null,
      "outputs": [
        {
          "output_type": "execute_result",
          "data": {
            "text/plain": [
              "(53883, 8)"
            ]
          },
          "metadata": {
            "tags": []
          },
          "execution_count": 529
        }
      ]
    },
    {
      "cell_type": "code",
      "metadata": {
        "id": "xBtkK7K0wCI-",
        "colab_type": "code",
        "colab": {
          "base_uri": "https://localhost:8080/",
          "height": 163
        },
        "outputId": "30e6921a-ee85-419d-d2e1-3828fd4c83b3"
      },
      "source": [
        "data.isnull().sum()"
      ],
      "execution_count": null,
      "outputs": [
        {
          "output_type": "execute_result",
          "data": {
            "text/plain": [
              "Location             0\n",
              "Price              248\n",
              "Rooms             1706\n",
              "Bathrooms         2013\n",
              "Car Parks        17567\n",
              "Property Type       25\n",
              "Size              1063\n",
              "Furnishing        6930\n",
              "dtype: int64"
            ]
          },
          "metadata": {
            "tags": []
          },
          "execution_count": 530
        }
      ]
    },
    {
      "cell_type": "code",
      "metadata": {
        "id": "i-ou-Nl2wJc3",
        "colab_type": "code",
        "colab": {
          "base_uri": "https://localhost:8080/",
          "height": 147
        },
        "outputId": "58077a61-0d6e-44e5-d801-548bfb11a0f9"
      },
      "source": [
        "for col in data.columns:\n",
        "  print(f'{col} is {data[col].dtype.name}')"
      ],
      "execution_count": null,
      "outputs": [
        {
          "output_type": "stream",
          "text": [
            "Location is object\n",
            "Price is object\n",
            "Rooms is object\n",
            "Bathrooms is float64\n",
            "Car Parks is float64\n",
            "Property Type is object\n",
            "Size is object\n",
            "Furnishing is object\n"
          ],
          "name": "stdout"
        }
      ]
    },
    {
      "cell_type": "code",
      "metadata": {
        "id": "sES9n1j4wMWU",
        "colab_type": "code",
        "colab": {}
      },
      "source": [
        "#Data cleaning:\n",
        "# 1. NaNs\n",
        "# 2. regex for Price, Size\n",
        "# 3. Fix rooms\n",
        "#Prediction magic"
      ],
      "execution_count": null,
      "outputs": []
    },
    {
      "cell_type": "code",
      "metadata": {
        "id": "pPxlw-v1xatS",
        "colab_type": "code",
        "colab": {
          "base_uri": "https://localhost:8080/",
          "height": 50
        },
        "outputId": "937ff78a-0090-4d6e-9637-6dbc665f670d"
      },
      "source": [
        "#Car Parks clean-up\n",
        "data[\"Car Parks\"].unique()"
      ],
      "execution_count": null,
      "outputs": [
        {
          "output_type": "execute_result",
          "data": {
            "text/plain": [
              "array([ 2., nan,  4.,  3.,  1.,  5.,  6.,  7., 10.,  9.,  8., 13., 12.,\n",
              "       15., 28., 11., 20., 18., 30., 24., 16., 17.])"
            ]
          },
          "metadata": {
            "tags": []
          },
          "execution_count": 533
        }
      ]
    },
    {
      "cell_type": "code",
      "metadata": {
        "id": "q4S3_lYhxo8L",
        "colab_type": "code",
        "colab": {}
      },
      "source": [
        "data[\"Car Parks\"] = data[\"Car Parks\"].fillna(0)"
      ],
      "execution_count": null,
      "outputs": []
    },
    {
      "cell_type": "code",
      "metadata": {
        "id": "y8mTSNcLxruP",
        "colab_type": "code",
        "colab": {
          "base_uri": "https://localhost:8080/",
          "height": 50
        },
        "outputId": "91599ac3-756c-49b1-bcdb-e72ab5d65c2a"
      },
      "source": [
        "data[\"Car Parks\"].unique()"
      ],
      "execution_count": null,
      "outputs": [
        {
          "output_type": "execute_result",
          "data": {
            "text/plain": [
              "array([ 2.,  0.,  4.,  3.,  1.,  5.,  6.,  7., 10.,  9.,  8., 13., 12.,\n",
              "       15., 28., 11., 20., 18., 30., 24., 16., 17.])"
            ]
          },
          "metadata": {
            "tags": []
          },
          "execution_count": 535
        }
      ]
    },
    {
      "cell_type": "code",
      "metadata": {
        "id": "MozMGjz-x4Bu",
        "colab_type": "code",
        "colab": {}
      },
      "source": [
        "# more than 4 car parking spaces - 0 \n",
        "data[\"Car Parks\"] = np.where(data[\"Car Parks\"]>=4,4,data[\"Car Parks\"])"
      ],
      "execution_count": null,
      "outputs": []
    },
    {
      "cell_type": "code",
      "metadata": {
        "id": "g_mm328_yLoo",
        "colab_type": "code",
        "colab": {
          "base_uri": "https://localhost:8080/",
          "height": 33
        },
        "outputId": "834724cf-8703-472d-8673-95183c9828c9"
      },
      "source": [
        "data[\"Car Parks\"].unique()"
      ],
      "execution_count": null,
      "outputs": [
        {
          "output_type": "execute_result",
          "data": {
            "text/plain": [
              "array([2., 0., 4., 3., 1.])"
            ]
          },
          "metadata": {
            "tags": []
          },
          "execution_count": 537
        }
      ]
    },
    {
      "cell_type": "code",
      "metadata": {
        "id": "3n-2Rz8WyOUB",
        "colab_type": "code",
        "colab": {
          "base_uri": "https://localhost:8080/",
          "height": 163
        },
        "outputId": "5e0a0d70-1ec4-4df9-c320-b359e4da2f28"
      },
      "source": [
        "data.isnull().sum()"
      ],
      "execution_count": null,
      "outputs": [
        {
          "output_type": "execute_result",
          "data": {
            "text/plain": [
              "Location            0\n",
              "Price             248\n",
              "Rooms            1706\n",
              "Bathrooms        2013\n",
              "Car Parks           0\n",
              "Property Type      25\n",
              "Size             1063\n",
              "Furnishing       6930\n",
              "dtype: int64"
            ]
          },
          "metadata": {
            "tags": []
          },
          "execution_count": 538
        }
      ]
    },
    {
      "cell_type": "code",
      "metadata": {
        "id": "pAaWH4pfyeyM",
        "colab_type": "code",
        "colab": {
          "base_uri": "https://localhost:8080/",
          "height": 50
        },
        "outputId": "3f979ecc-1e28-49e1-e743-12628254e330"
      },
      "source": [
        "#Furnishing clean-up\n",
        "data[\"Furnishing\"].unique()"
      ],
      "execution_count": null,
      "outputs": [
        {
          "output_type": "execute_result",
          "data": {
            "text/plain": [
              "array(['Fully Furnished', 'Partly Furnished', nan, 'Unfurnished',\n",
              "       'Unknown'], dtype=object)"
            ]
          },
          "metadata": {
            "tags": []
          },
          "execution_count": 539
        }
      ]
    },
    {
      "cell_type": "code",
      "metadata": {
        "id": "_b-J4jnQylh3",
        "colab_type": "code",
        "colab": {}
      },
      "source": [
        "#nan,unknown = unfurnished\n",
        "data[\"Furnishing\"] = np.where(data[\"Furnishing\"]==\"Unknown\",\"Unfurnished\",data[\"Furnishing\"])\n",
        "data[\"Furnishing\"] = data[\"Furnishing\"].fillna(\"Unfurnished\")"
      ],
      "execution_count": null,
      "outputs": []
    },
    {
      "cell_type": "code",
      "metadata": {
        "id": "XkCDh1mdy2Aw",
        "colab_type": "code",
        "colab": {
          "base_uri": "https://localhost:8080/",
          "height": 33
        },
        "outputId": "bd79d4b5-a6b2-4205-ae73-8d3e409bef85"
      },
      "source": [
        "data[\"Furnishing\"].unique()"
      ],
      "execution_count": null,
      "outputs": [
        {
          "output_type": "execute_result",
          "data": {
            "text/plain": [
              "array(['Fully Furnished', 'Partly Furnished', 'Unfurnished'], dtype=object)"
            ]
          },
          "metadata": {
            "tags": []
          },
          "execution_count": 541
        }
      ]
    },
    {
      "cell_type": "code",
      "metadata": {
        "id": "ldziNuTWy4Bw",
        "colab_type": "code",
        "colab": {
          "base_uri": "https://localhost:8080/",
          "height": 163
        },
        "outputId": "6b70a9bd-230c-41a9-d55f-fd8e23bd1c8f"
      },
      "source": [
        "data.isnull().sum()"
      ],
      "execution_count": null,
      "outputs": [
        {
          "output_type": "execute_result",
          "data": {
            "text/plain": [
              "Location            0\n",
              "Price             248\n",
              "Rooms            1706\n",
              "Bathrooms        2013\n",
              "Car Parks           0\n",
              "Property Type      25\n",
              "Size             1063\n",
              "Furnishing          0\n",
              "dtype: int64"
            ]
          },
          "metadata": {
            "tags": []
          },
          "execution_count": 542
        }
      ]
    },
    {
      "cell_type": "code",
      "metadata": {
        "id": "zKuUDzbXy8J8",
        "colab_type": "code",
        "colab": {}
      },
      "source": [
        "#drop remanining NaNs\n",
        "data=data.dropna()"
      ],
      "execution_count": null,
      "outputs": []
    },
    {
      "cell_type": "code",
      "metadata": {
        "id": "mDkISinBzBw6",
        "colab_type": "code",
        "colab": {
          "base_uri": "https://localhost:8080/",
          "height": 163
        },
        "outputId": "8b866157-1219-4966-89c6-d47747bb5332"
      },
      "source": [
        "data.isnull().sum()"
      ],
      "execution_count": null,
      "outputs": [
        {
          "output_type": "execute_result",
          "data": {
            "text/plain": [
              "Location         0\n",
              "Price            0\n",
              "Rooms            0\n",
              "Bathrooms        0\n",
              "Car Parks        0\n",
              "Property Type    0\n",
              "Size             0\n",
              "Furnishing       0\n",
              "dtype: int64"
            ]
          },
          "metadata": {
            "tags": []
          },
          "execution_count": 544
        }
      ]
    },
    {
      "cell_type": "code",
      "metadata": {
        "id": "BiLbp0mjzDug",
        "colab_type": "code",
        "colab": {
          "base_uri": "https://localhost:8080/",
          "height": 82
        },
        "outputId": "9ea38f7c-2dbe-47f7-a64c-1a1620478516"
      },
      "source": [
        "#split size into 2 columns = Size and Built-up\n",
        "data[\"Size\"].unique()"
      ],
      "execution_count": null,
      "outputs": [
        {
          "output_type": "execute_result",
          "data": {
            "text/plain": [
              "array(['Built-up : 1,335 sq. ft.', 'Land area : 6900 sq. ft.',\n",
              "       'Built-up : 1,875 sq. ft.', ..., 'Land area : 2132 sq. ft.',\n",
              "       'Land area : 1157 sq. ft.', 'Land area : 1544 sq. ft.'],\n",
              "      dtype=object)"
            ]
          },
          "metadata": {
            "tags": []
          },
          "execution_count": 545
        }
      ]
    },
    {
      "cell_type": "code",
      "metadata": {
        "id": "j3_OfZIVzZGL",
        "colab_type": "code",
        "colab": {
          "base_uri": "https://localhost:8080/",
          "height": 196
        },
        "outputId": "01d6adc7-407d-4d76-e82f-04066db880e9"
      },
      "source": [
        "data[\"Size\"].head(10)"
      ],
      "execution_count": null,
      "outputs": [
        {
          "output_type": "execute_result",
          "data": {
            "text/plain": [
              "0        Built-up : 1,335 sq. ft.\n",
              "1        Land area : 6900 sq. ft.\n",
              "2        Built-up : 1,875 sq. ft.\n",
              "4        Built-up : 1,513 sq. ft.\n",
              "5        Land area : 7200 sq. ft.\n",
              "7        Land area : 3600 sq. ft.\n",
              "8       Land area : 25x75 sq. ft.\n",
              "9          Built-up : 904 sq. ft.\n",
              "11    Land area : 22 x 80 sq. ft.\n",
              "12       Land area : 1900 sq. ft.\n",
              "Name: Size, dtype: object"
            ]
          },
          "metadata": {
            "tags": []
          },
          "execution_count": 546
        }
      ]
    },
    {
      "cell_type": "code",
      "metadata": {
        "id": "ibcaTZmOzt4U",
        "colab_type": "code",
        "colab": {
          "base_uri": "https://localhost:8080/",
          "height": 50
        },
        "outputId": "4d0132c9-73e4-4898-f602-cd95280f5f43"
      },
      "source": [
        "data['Built or Land'], data['sq ft size'] = data['Size'].str.split(':', 1).str"
      ],
      "execution_count": null,
      "outputs": [
        {
          "output_type": "stream",
          "text": [
            "/usr/local/lib/python3.6/dist-packages/ipykernel_launcher.py:1: FutureWarning: Columnar iteration over characters will be deprecated in future releases.\n",
            "  \"\"\"Entry point for launching an IPython kernel.\n"
          ],
          "name": "stderr"
        }
      ]
    },
    {
      "cell_type": "code",
      "metadata": {
        "id": "XkcfeL0H0Ekj",
        "colab_type": "code",
        "colab": {
          "base_uri": "https://localhost:8080/",
          "height": 191
        },
        "outputId": "90df3f6c-635a-4c34-e038-72dc10c8d485"
      },
      "source": [
        "data.head()"
      ],
      "execution_count": null,
      "outputs": [
        {
          "output_type": "execute_result",
          "data": {
            "text/html": [
              "<div>\n",
              "<style scoped>\n",
              "    .dataframe tbody tr th:only-of-type {\n",
              "        vertical-align: middle;\n",
              "    }\n",
              "\n",
              "    .dataframe tbody tr th {\n",
              "        vertical-align: top;\n",
              "    }\n",
              "\n",
              "    .dataframe thead th {\n",
              "        text-align: right;\n",
              "    }\n",
              "</style>\n",
              "<table border=\"1\" class=\"dataframe\">\n",
              "  <thead>\n",
              "    <tr style=\"text-align: right;\">\n",
              "      <th></th>\n",
              "      <th>Location</th>\n",
              "      <th>Price</th>\n",
              "      <th>Rooms</th>\n",
              "      <th>Bathrooms</th>\n",
              "      <th>Car Parks</th>\n",
              "      <th>Property Type</th>\n",
              "      <th>Size</th>\n",
              "      <th>Furnishing</th>\n",
              "      <th>Built or Land</th>\n",
              "      <th>sq ft size</th>\n",
              "    </tr>\n",
              "  </thead>\n",
              "  <tbody>\n",
              "    <tr>\n",
              "      <th>0</th>\n",
              "      <td>KLCC, Kuala Lumpur</td>\n",
              "      <td>RM 1,250,000</td>\n",
              "      <td>2+1</td>\n",
              "      <td>3.0</td>\n",
              "      <td>2.0</td>\n",
              "      <td>Serviced Residence</td>\n",
              "      <td>Built-up : 1,335 sq. ft.</td>\n",
              "      <td>Fully Furnished</td>\n",
              "      <td>Built-up</td>\n",
              "      <td>1,335 sq. ft.</td>\n",
              "    </tr>\n",
              "    <tr>\n",
              "      <th>1</th>\n",
              "      <td>Damansara Heights, Kuala Lumpur</td>\n",
              "      <td>RM 6,800,000</td>\n",
              "      <td>6</td>\n",
              "      <td>7.0</td>\n",
              "      <td>0.0</td>\n",
              "      <td>Bungalow</td>\n",
              "      <td>Land area : 6900 sq. ft.</td>\n",
              "      <td>Partly Furnished</td>\n",
              "      <td>Land area</td>\n",
              "      <td>6900 sq. ft.</td>\n",
              "    </tr>\n",
              "    <tr>\n",
              "      <th>2</th>\n",
              "      <td>Dutamas, Kuala Lumpur</td>\n",
              "      <td>RM 1,030,000</td>\n",
              "      <td>3</td>\n",
              "      <td>4.0</td>\n",
              "      <td>2.0</td>\n",
              "      <td>Condominium (Corner)</td>\n",
              "      <td>Built-up : 1,875 sq. ft.</td>\n",
              "      <td>Partly Furnished</td>\n",
              "      <td>Built-up</td>\n",
              "      <td>1,875 sq. ft.</td>\n",
              "    </tr>\n",
              "    <tr>\n",
              "      <th>4</th>\n",
              "      <td>Bukit Jalil, Kuala Lumpur</td>\n",
              "      <td>RM 900,000</td>\n",
              "      <td>4+1</td>\n",
              "      <td>3.0</td>\n",
              "      <td>2.0</td>\n",
              "      <td>Condominium (Corner)</td>\n",
              "      <td>Built-up : 1,513 sq. ft.</td>\n",
              "      <td>Partly Furnished</td>\n",
              "      <td>Built-up</td>\n",
              "      <td>1,513 sq. ft.</td>\n",
              "    </tr>\n",
              "    <tr>\n",
              "      <th>5</th>\n",
              "      <td>Taman Tun Dr Ismail, Kuala Lumpur</td>\n",
              "      <td>RM 5,350,000</td>\n",
              "      <td>4+2</td>\n",
              "      <td>5.0</td>\n",
              "      <td>4.0</td>\n",
              "      <td>Bungalow</td>\n",
              "      <td>Land area : 7200 sq. ft.</td>\n",
              "      <td>Partly Furnished</td>\n",
              "      <td>Land area</td>\n",
              "      <td>7200 sq. ft.</td>\n",
              "    </tr>\n",
              "  </tbody>\n",
              "</table>\n",
              "</div>"
            ],
            "text/plain": [
              "                            Location  ...      sq ft size\n",
              "0                 KLCC, Kuala Lumpur  ...   1,335 sq. ft.\n",
              "1    Damansara Heights, Kuala Lumpur  ...    6900 sq. ft.\n",
              "2              Dutamas, Kuala Lumpur  ...   1,875 sq. ft.\n",
              "4          Bukit Jalil, Kuala Lumpur  ...   1,513 sq. ft.\n",
              "5  Taman Tun Dr Ismail, Kuala Lumpur  ...    7200 sq. ft.\n",
              "\n",
              "[5 rows x 10 columns]"
            ]
          },
          "metadata": {
            "tags": []
          },
          "execution_count": 548
        }
      ]
    },
    {
      "cell_type": "code",
      "metadata": {
        "id": "8YbKOk2P0OQB",
        "colab_type": "code",
        "colab": {}
      },
      "source": [
        "data[[\"Location\",\"Price\",\"Property Type\",\"sq ft size\"]]=data[[\"Location\",\"Price\",\"Property Type\",\"sq ft size\"]].astype(\"str\")"
      ],
      "execution_count": null,
      "outputs": []
    },
    {
      "cell_type": "code",
      "metadata": {
        "id": "7LxiNM7y0z3J",
        "colab_type": "code",
        "colab": {}
      },
      "source": [
        "import re\n",
        "sq_ft_regex = re.compile(r' sq. ft.')\n",
        "data[\"sq ft size\"] = data[\"sq ft size\"].str.replace(sq_ft_regex,\"\")"
      ],
      "execution_count": null,
      "outputs": []
    },
    {
      "cell_type": "code",
      "metadata": {
        "id": "8hVNqFSI02bq",
        "colab_type": "code",
        "colab": {
          "base_uri": "https://localhost:8080/",
          "height": 191
        },
        "outputId": "10ccd3aa-db2a-40d7-b50d-b153eb07aed9"
      },
      "source": [
        "data.head()"
      ],
      "execution_count": null,
      "outputs": [
        {
          "output_type": "execute_result",
          "data": {
            "text/html": [
              "<div>\n",
              "<style scoped>\n",
              "    .dataframe tbody tr th:only-of-type {\n",
              "        vertical-align: middle;\n",
              "    }\n",
              "\n",
              "    .dataframe tbody tr th {\n",
              "        vertical-align: top;\n",
              "    }\n",
              "\n",
              "    .dataframe thead th {\n",
              "        text-align: right;\n",
              "    }\n",
              "</style>\n",
              "<table border=\"1\" class=\"dataframe\">\n",
              "  <thead>\n",
              "    <tr style=\"text-align: right;\">\n",
              "      <th></th>\n",
              "      <th>Location</th>\n",
              "      <th>Price</th>\n",
              "      <th>Rooms</th>\n",
              "      <th>Bathrooms</th>\n",
              "      <th>Car Parks</th>\n",
              "      <th>Property Type</th>\n",
              "      <th>Size</th>\n",
              "      <th>Furnishing</th>\n",
              "      <th>Built or Land</th>\n",
              "      <th>sq ft size</th>\n",
              "    </tr>\n",
              "  </thead>\n",
              "  <tbody>\n",
              "    <tr>\n",
              "      <th>0</th>\n",
              "      <td>KLCC, Kuala Lumpur</td>\n",
              "      <td>RM 1,250,000</td>\n",
              "      <td>2+1</td>\n",
              "      <td>3.0</td>\n",
              "      <td>2.0</td>\n",
              "      <td>Serviced Residence</td>\n",
              "      <td>Built-up : 1,335 sq. ft.</td>\n",
              "      <td>Fully Furnished</td>\n",
              "      <td>Built-up</td>\n",
              "      <td>1,335</td>\n",
              "    </tr>\n",
              "    <tr>\n",
              "      <th>1</th>\n",
              "      <td>Damansara Heights, Kuala Lumpur</td>\n",
              "      <td>RM 6,800,000</td>\n",
              "      <td>6</td>\n",
              "      <td>7.0</td>\n",
              "      <td>0.0</td>\n",
              "      <td>Bungalow</td>\n",
              "      <td>Land area : 6900 sq. ft.</td>\n",
              "      <td>Partly Furnished</td>\n",
              "      <td>Land area</td>\n",
              "      <td>6900</td>\n",
              "    </tr>\n",
              "    <tr>\n",
              "      <th>2</th>\n",
              "      <td>Dutamas, Kuala Lumpur</td>\n",
              "      <td>RM 1,030,000</td>\n",
              "      <td>3</td>\n",
              "      <td>4.0</td>\n",
              "      <td>2.0</td>\n",
              "      <td>Condominium (Corner)</td>\n",
              "      <td>Built-up : 1,875 sq. ft.</td>\n",
              "      <td>Partly Furnished</td>\n",
              "      <td>Built-up</td>\n",
              "      <td>1,875</td>\n",
              "    </tr>\n",
              "    <tr>\n",
              "      <th>4</th>\n",
              "      <td>Bukit Jalil, Kuala Lumpur</td>\n",
              "      <td>RM 900,000</td>\n",
              "      <td>4+1</td>\n",
              "      <td>3.0</td>\n",
              "      <td>2.0</td>\n",
              "      <td>Condominium (Corner)</td>\n",
              "      <td>Built-up : 1,513 sq. ft.</td>\n",
              "      <td>Partly Furnished</td>\n",
              "      <td>Built-up</td>\n",
              "      <td>1,513</td>\n",
              "    </tr>\n",
              "    <tr>\n",
              "      <th>5</th>\n",
              "      <td>Taman Tun Dr Ismail, Kuala Lumpur</td>\n",
              "      <td>RM 5,350,000</td>\n",
              "      <td>4+2</td>\n",
              "      <td>5.0</td>\n",
              "      <td>4.0</td>\n",
              "      <td>Bungalow</td>\n",
              "      <td>Land area : 7200 sq. ft.</td>\n",
              "      <td>Partly Furnished</td>\n",
              "      <td>Land area</td>\n",
              "      <td>7200</td>\n",
              "    </tr>\n",
              "  </tbody>\n",
              "</table>\n",
              "</div>"
            ],
            "text/plain": [
              "                            Location         Price  ... Built or Land  sq ft size\n",
              "0                 KLCC, Kuala Lumpur  RM 1,250,000  ...     Built-up        1,335\n",
              "1    Damansara Heights, Kuala Lumpur  RM 6,800,000  ...    Land area         6900\n",
              "2              Dutamas, Kuala Lumpur  RM 1,030,000  ...     Built-up        1,875\n",
              "4          Bukit Jalil, Kuala Lumpur    RM 900,000  ...     Built-up        1,513\n",
              "5  Taman Tun Dr Ismail, Kuala Lumpur  RM 5,350,000  ...    Land area         7200\n",
              "\n",
              "[5 rows x 10 columns]"
            ]
          },
          "metadata": {
            "tags": []
          },
          "execution_count": 551
        }
      ]
    },
    {
      "cell_type": "code",
      "metadata": {
        "id": "KwJ1yNSF_vq7",
        "colab_type": "code",
        "colab": {}
      },
      "source": [
        "price = re.compile(r'RM ')\n",
        "data[\"Price\"] = data[\"Price\"].str.replace(price,\"\")"
      ],
      "execution_count": null,
      "outputs": []
    },
    {
      "cell_type": "code",
      "metadata": {
        "id": "Y10mJdjE_8Vi",
        "colab_type": "code",
        "colab": {}
      },
      "source": [
        "kuala = re.compile(r', Kuala Lumpur')\n",
        "data[\"Location\"] = data[\"Location\"].str.replace(kuala,\"\")"
      ],
      "execution_count": null,
      "outputs": []
    },
    {
      "cell_type": "code",
      "metadata": {
        "id": "IcYYdWS-ACm_",
        "colab_type": "code",
        "colab": {
          "base_uri": "https://localhost:8080/",
          "height": 98
        },
        "outputId": "d8d6888e-ea9a-46e6-fc91-042079780ea4"
      },
      "source": [
        "data[\"Rooms\"].unique()"
      ],
      "execution_count": null,
      "outputs": [
        {
          "output_type": "execute_result",
          "data": {
            "text/plain": [
              "array(['2+1', '6', '3', '4+1', '4+2', '5', '4', '3+1', '6+1', '5+1',\n",
              "       '3+2', '1', '2', '1+1', '5+2', '2+2', '7+1', 'Studio', '7', '6+',\n",
              "       '14', '12', '8', '7+', '1+2', '8+', '8+1', '13+', '20 Above', '9',\n",
              "       '10', '10+1', '15+', '9+1', '10+', '11', '18', '11+1', '13+1',\n",
              "       '12+', '9+', '16', '13'], dtype=object)"
            ]
          },
          "metadata": {
            "tags": []
          },
          "execution_count": 554
        }
      ]
    },
    {
      "cell_type": "code",
      "metadata": {
        "id": "R71wiV7XAE4P",
        "colab_type": "code",
        "colab": {}
      },
      "source": [
        "data[\"Rooms\"] = np.where(data[\"Rooms\"]==\"Studio\",0,data[\"Rooms\"])\n",
        "data[\"Rooms\"] = np.where(data[\"Rooms\"]==\"20 Above\",20,data[\"Rooms\"])\n",
        "data[\"Rooms\"] = data[\"Rooms\"].apply(str)"
      ],
      "execution_count": null,
      "outputs": []
    },
    {
      "cell_type": "code",
      "metadata": {
        "id": "ts-pXMg5ANJB",
        "colab_type": "code",
        "colab": {
          "base_uri": "https://localhost:8080/",
          "height": 191
        },
        "outputId": "d428aa31-5d11-4813-845a-24eaa68a7b61"
      },
      "source": [
        "data.head()"
      ],
      "execution_count": null,
      "outputs": [
        {
          "output_type": "execute_result",
          "data": {
            "text/html": [
              "<div>\n",
              "<style scoped>\n",
              "    .dataframe tbody tr th:only-of-type {\n",
              "        vertical-align: middle;\n",
              "    }\n",
              "\n",
              "    .dataframe tbody tr th {\n",
              "        vertical-align: top;\n",
              "    }\n",
              "\n",
              "    .dataframe thead th {\n",
              "        text-align: right;\n",
              "    }\n",
              "</style>\n",
              "<table border=\"1\" class=\"dataframe\">\n",
              "  <thead>\n",
              "    <tr style=\"text-align: right;\">\n",
              "      <th></th>\n",
              "      <th>Location</th>\n",
              "      <th>Price</th>\n",
              "      <th>Rooms</th>\n",
              "      <th>Bathrooms</th>\n",
              "      <th>Car Parks</th>\n",
              "      <th>Property Type</th>\n",
              "      <th>Size</th>\n",
              "      <th>Furnishing</th>\n",
              "      <th>Built or Land</th>\n",
              "      <th>sq ft size</th>\n",
              "    </tr>\n",
              "  </thead>\n",
              "  <tbody>\n",
              "    <tr>\n",
              "      <th>0</th>\n",
              "      <td>KLCC</td>\n",
              "      <td>1,250,000</td>\n",
              "      <td>2+1</td>\n",
              "      <td>3.0</td>\n",
              "      <td>2.0</td>\n",
              "      <td>Serviced Residence</td>\n",
              "      <td>Built-up : 1,335 sq. ft.</td>\n",
              "      <td>Fully Furnished</td>\n",
              "      <td>Built-up</td>\n",
              "      <td>1,335</td>\n",
              "    </tr>\n",
              "    <tr>\n",
              "      <th>1</th>\n",
              "      <td>Damansara Heights</td>\n",
              "      <td>6,800,000</td>\n",
              "      <td>6</td>\n",
              "      <td>7.0</td>\n",
              "      <td>0.0</td>\n",
              "      <td>Bungalow</td>\n",
              "      <td>Land area : 6900 sq. ft.</td>\n",
              "      <td>Partly Furnished</td>\n",
              "      <td>Land area</td>\n",
              "      <td>6900</td>\n",
              "    </tr>\n",
              "    <tr>\n",
              "      <th>2</th>\n",
              "      <td>Dutamas</td>\n",
              "      <td>1,030,000</td>\n",
              "      <td>3</td>\n",
              "      <td>4.0</td>\n",
              "      <td>2.0</td>\n",
              "      <td>Condominium (Corner)</td>\n",
              "      <td>Built-up : 1,875 sq. ft.</td>\n",
              "      <td>Partly Furnished</td>\n",
              "      <td>Built-up</td>\n",
              "      <td>1,875</td>\n",
              "    </tr>\n",
              "    <tr>\n",
              "      <th>4</th>\n",
              "      <td>Bukit Jalil</td>\n",
              "      <td>900,000</td>\n",
              "      <td>4+1</td>\n",
              "      <td>3.0</td>\n",
              "      <td>2.0</td>\n",
              "      <td>Condominium (Corner)</td>\n",
              "      <td>Built-up : 1,513 sq. ft.</td>\n",
              "      <td>Partly Furnished</td>\n",
              "      <td>Built-up</td>\n",
              "      <td>1,513</td>\n",
              "    </tr>\n",
              "    <tr>\n",
              "      <th>5</th>\n",
              "      <td>Taman Tun Dr Ismail</td>\n",
              "      <td>5,350,000</td>\n",
              "      <td>4+2</td>\n",
              "      <td>5.0</td>\n",
              "      <td>4.0</td>\n",
              "      <td>Bungalow</td>\n",
              "      <td>Land area : 7200 sq. ft.</td>\n",
              "      <td>Partly Furnished</td>\n",
              "      <td>Land area</td>\n",
              "      <td>7200</td>\n",
              "    </tr>\n",
              "  </tbody>\n",
              "</table>\n",
              "</div>"
            ],
            "text/plain": [
              "              Location      Price  ... Built or Land  sq ft size\n",
              "0                 KLCC  1,250,000  ...     Built-up        1,335\n",
              "1    Damansara Heights  6,800,000  ...    Land area         6900\n",
              "2              Dutamas  1,030,000  ...     Built-up        1,875\n",
              "4          Bukit Jalil    900,000  ...     Built-up        1,513\n",
              "5  Taman Tun Dr Ismail  5,350,000  ...    Land area         7200\n",
              "\n",
              "[5 rows x 10 columns]"
            ]
          },
          "metadata": {
            "tags": []
          },
          "execution_count": 556
        }
      ]
    },
    {
      "cell_type": "code",
      "metadata": {
        "id": "eXKKVZD4AvRC",
        "colab_type": "code",
        "colab": {}
      },
      "source": [
        "#sump up weird \"+something\" rooms\n",
        "room_regex = re.compile(r'\\d')\n",
        "nums_found = data[\"Rooms\"].str.findall(room_regex)\n",
        "data[\"Rooms\"] = [sum([int(j) for j in k]) for k in nums_found]"
      ],
      "execution_count": null,
      "outputs": []
    },
    {
      "cell_type": "code",
      "metadata": {
        "id": "kE_oRKw0Cw3i",
        "colab_type": "code",
        "colab": {
          "base_uri": "https://localhost:8080/",
          "height": 212
        },
        "outputId": "47c1e90a-238c-4319-b9c4-36f5f0188a92"
      },
      "source": [
        "data.loc[data[\"sq ft size\"].str.contains(\"x\"),\"sq ft size\"]\n",
        "# 1. extract nums from every something x something cell\n",
        "# 2. multiply them\n",
        "# 3. save them "
      ],
      "execution_count": null,
      "outputs": [
        {
          "output_type": "execute_result",
          "data": {
            "text/plain": [
              "8           25x75\n",
              "11        22 x 80\n",
              "32          16x55\n",
              "97          22x80\n",
              "111       32 x 75\n",
              "           ...   \n",
              "53849       45x90\n",
              "53852     22 x 75\n",
              "53853     32 x 85\n",
              "53867       18x65\n",
              "53873       22x65\n",
              "Name: sq ft size, Length: 5076, dtype: object"
            ]
          },
          "metadata": {
            "tags": []
          },
          "execution_count": 558
        }
      ]
    },
    {
      "cell_type": "code",
      "metadata": {
        "id": "CBmqQiqtEU9R",
        "colab_type": "code",
        "colab": {}
      },
      "source": [
        "data[\"sq ft size\"] = data[\"sq ft size\"].str.replace(\",\",\"\")"
      ],
      "execution_count": null,
      "outputs": []
    },
    {
      "cell_type": "code",
      "metadata": {
        "id": "NAyo9xYBGQZX",
        "colab_type": "code",
        "colab": {
          "base_uri": "https://localhost:8080/",
          "height": 191
        },
        "outputId": "6dff4e10-2208-4c0a-cd3c-1d299d361318"
      },
      "source": [
        "data.head()"
      ],
      "execution_count": null,
      "outputs": [
        {
          "output_type": "execute_result",
          "data": {
            "text/html": [
              "<div>\n",
              "<style scoped>\n",
              "    .dataframe tbody tr th:only-of-type {\n",
              "        vertical-align: middle;\n",
              "    }\n",
              "\n",
              "    .dataframe tbody tr th {\n",
              "        vertical-align: top;\n",
              "    }\n",
              "\n",
              "    .dataframe thead th {\n",
              "        text-align: right;\n",
              "    }\n",
              "</style>\n",
              "<table border=\"1\" class=\"dataframe\">\n",
              "  <thead>\n",
              "    <tr style=\"text-align: right;\">\n",
              "      <th></th>\n",
              "      <th>Location</th>\n",
              "      <th>Price</th>\n",
              "      <th>Rooms</th>\n",
              "      <th>Bathrooms</th>\n",
              "      <th>Car Parks</th>\n",
              "      <th>Property Type</th>\n",
              "      <th>Size</th>\n",
              "      <th>Furnishing</th>\n",
              "      <th>Built or Land</th>\n",
              "      <th>sq ft size</th>\n",
              "    </tr>\n",
              "  </thead>\n",
              "  <tbody>\n",
              "    <tr>\n",
              "      <th>0</th>\n",
              "      <td>KLCC</td>\n",
              "      <td>1,250,000</td>\n",
              "      <td>3</td>\n",
              "      <td>3.0</td>\n",
              "      <td>2.0</td>\n",
              "      <td>Serviced Residence</td>\n",
              "      <td>Built-up : 1,335 sq. ft.</td>\n",
              "      <td>Fully Furnished</td>\n",
              "      <td>Built-up</td>\n",
              "      <td>1335</td>\n",
              "    </tr>\n",
              "    <tr>\n",
              "      <th>1</th>\n",
              "      <td>Damansara Heights</td>\n",
              "      <td>6,800,000</td>\n",
              "      <td>6</td>\n",
              "      <td>7.0</td>\n",
              "      <td>0.0</td>\n",
              "      <td>Bungalow</td>\n",
              "      <td>Land area : 6900 sq. ft.</td>\n",
              "      <td>Partly Furnished</td>\n",
              "      <td>Land area</td>\n",
              "      <td>6900</td>\n",
              "    </tr>\n",
              "    <tr>\n",
              "      <th>2</th>\n",
              "      <td>Dutamas</td>\n",
              "      <td>1,030,000</td>\n",
              "      <td>3</td>\n",
              "      <td>4.0</td>\n",
              "      <td>2.0</td>\n",
              "      <td>Condominium (Corner)</td>\n",
              "      <td>Built-up : 1,875 sq. ft.</td>\n",
              "      <td>Partly Furnished</td>\n",
              "      <td>Built-up</td>\n",
              "      <td>1875</td>\n",
              "    </tr>\n",
              "    <tr>\n",
              "      <th>4</th>\n",
              "      <td>Bukit Jalil</td>\n",
              "      <td>900,000</td>\n",
              "      <td>5</td>\n",
              "      <td>3.0</td>\n",
              "      <td>2.0</td>\n",
              "      <td>Condominium (Corner)</td>\n",
              "      <td>Built-up : 1,513 sq. ft.</td>\n",
              "      <td>Partly Furnished</td>\n",
              "      <td>Built-up</td>\n",
              "      <td>1513</td>\n",
              "    </tr>\n",
              "    <tr>\n",
              "      <th>5</th>\n",
              "      <td>Taman Tun Dr Ismail</td>\n",
              "      <td>5,350,000</td>\n",
              "      <td>6</td>\n",
              "      <td>5.0</td>\n",
              "      <td>4.0</td>\n",
              "      <td>Bungalow</td>\n",
              "      <td>Land area : 7200 sq. ft.</td>\n",
              "      <td>Partly Furnished</td>\n",
              "      <td>Land area</td>\n",
              "      <td>7200</td>\n",
              "    </tr>\n",
              "  </tbody>\n",
              "</table>\n",
              "</div>"
            ],
            "text/plain": [
              "              Location      Price  ...  Built or Land  sq ft size\n",
              "0                 KLCC  1,250,000  ...      Built-up         1335\n",
              "1    Damansara Heights  6,800,000  ...     Land area         6900\n",
              "2              Dutamas  1,030,000  ...      Built-up         1875\n",
              "4          Bukit Jalil    900,000  ...      Built-up         1513\n",
              "5  Taman Tun Dr Ismail  5,350,000  ...     Land area         7200\n",
              "\n",
              "[5 rows x 10 columns]"
            ]
          },
          "metadata": {
            "tags": []
          },
          "execution_count": 560
        }
      ]
    },
    {
      "cell_type": "code",
      "metadata": {
        "id": "l1QKN0b_GVxr",
        "colab_type": "code",
        "colab": {
          "base_uri": "https://localhost:8080/",
          "height": 191
        },
        "outputId": "70307a91-fe46-48f5-f625-32e64ef3a3ad"
      },
      "source": [
        "plot_regex = re.compile(r'\\d+')\n",
        "land_plots_found = data[\"sq ft size\"].str.findall(plot_regex)\n",
        "land_plot_found_cleaned = land_plots_found.apply(lambda x:int(x[0])*int(x[1]) if len(x)==2 else (int(x[0]) if len(x)==1 else np.nan))\n",
        "data[\"sq ft size\"] = land_plot_found_cleaned\n",
        "data.head()"
      ],
      "execution_count": null,
      "outputs": [
        {
          "output_type": "execute_result",
          "data": {
            "text/html": [
              "<div>\n",
              "<style scoped>\n",
              "    .dataframe tbody tr th:only-of-type {\n",
              "        vertical-align: middle;\n",
              "    }\n",
              "\n",
              "    .dataframe tbody tr th {\n",
              "        vertical-align: top;\n",
              "    }\n",
              "\n",
              "    .dataframe thead th {\n",
              "        text-align: right;\n",
              "    }\n",
              "</style>\n",
              "<table border=\"1\" class=\"dataframe\">\n",
              "  <thead>\n",
              "    <tr style=\"text-align: right;\">\n",
              "      <th></th>\n",
              "      <th>Location</th>\n",
              "      <th>Price</th>\n",
              "      <th>Rooms</th>\n",
              "      <th>Bathrooms</th>\n",
              "      <th>Car Parks</th>\n",
              "      <th>Property Type</th>\n",
              "      <th>Size</th>\n",
              "      <th>Furnishing</th>\n",
              "      <th>Built or Land</th>\n",
              "      <th>sq ft size</th>\n",
              "    </tr>\n",
              "  </thead>\n",
              "  <tbody>\n",
              "    <tr>\n",
              "      <th>0</th>\n",
              "      <td>KLCC</td>\n",
              "      <td>1,250,000</td>\n",
              "      <td>3</td>\n",
              "      <td>3.0</td>\n",
              "      <td>2.0</td>\n",
              "      <td>Serviced Residence</td>\n",
              "      <td>Built-up : 1,335 sq. ft.</td>\n",
              "      <td>Fully Furnished</td>\n",
              "      <td>Built-up</td>\n",
              "      <td>1335.0</td>\n",
              "    </tr>\n",
              "    <tr>\n",
              "      <th>1</th>\n",
              "      <td>Damansara Heights</td>\n",
              "      <td>6,800,000</td>\n",
              "      <td>6</td>\n",
              "      <td>7.0</td>\n",
              "      <td>0.0</td>\n",
              "      <td>Bungalow</td>\n",
              "      <td>Land area : 6900 sq. ft.</td>\n",
              "      <td>Partly Furnished</td>\n",
              "      <td>Land area</td>\n",
              "      <td>6900.0</td>\n",
              "    </tr>\n",
              "    <tr>\n",
              "      <th>2</th>\n",
              "      <td>Dutamas</td>\n",
              "      <td>1,030,000</td>\n",
              "      <td>3</td>\n",
              "      <td>4.0</td>\n",
              "      <td>2.0</td>\n",
              "      <td>Condominium (Corner)</td>\n",
              "      <td>Built-up : 1,875 sq. ft.</td>\n",
              "      <td>Partly Furnished</td>\n",
              "      <td>Built-up</td>\n",
              "      <td>1875.0</td>\n",
              "    </tr>\n",
              "    <tr>\n",
              "      <th>4</th>\n",
              "      <td>Bukit Jalil</td>\n",
              "      <td>900,000</td>\n",
              "      <td>5</td>\n",
              "      <td>3.0</td>\n",
              "      <td>2.0</td>\n",
              "      <td>Condominium (Corner)</td>\n",
              "      <td>Built-up : 1,513 sq. ft.</td>\n",
              "      <td>Partly Furnished</td>\n",
              "      <td>Built-up</td>\n",
              "      <td>1513.0</td>\n",
              "    </tr>\n",
              "    <tr>\n",
              "      <th>5</th>\n",
              "      <td>Taman Tun Dr Ismail</td>\n",
              "      <td>5,350,000</td>\n",
              "      <td>6</td>\n",
              "      <td>5.0</td>\n",
              "      <td>4.0</td>\n",
              "      <td>Bungalow</td>\n",
              "      <td>Land area : 7200 sq. ft.</td>\n",
              "      <td>Partly Furnished</td>\n",
              "      <td>Land area</td>\n",
              "      <td>7200.0</td>\n",
              "    </tr>\n",
              "  </tbody>\n",
              "</table>\n",
              "</div>"
            ],
            "text/plain": [
              "              Location      Price  ...  Built or Land  sq ft size\n",
              "0                 KLCC  1,250,000  ...      Built-up       1335.0\n",
              "1    Damansara Heights  6,800,000  ...     Land area       6900.0\n",
              "2              Dutamas  1,030,000  ...      Built-up       1875.0\n",
              "4          Bukit Jalil    900,000  ...      Built-up       1513.0\n",
              "5  Taman Tun Dr Ismail  5,350,000  ...     Land area       7200.0\n",
              "\n",
              "[5 rows x 10 columns]"
            ]
          },
          "metadata": {
            "tags": []
          },
          "execution_count": 561
        }
      ]
    },
    {
      "cell_type": "code",
      "metadata": {
        "id": "FQNJjKUmHSZL",
        "colab_type": "code",
        "colab": {
          "base_uri": "https://localhost:8080/",
          "height": 196
        },
        "outputId": "f127f324-5b6c-4ce3-8110-8fc4cdac8786"
      },
      "source": [
        "data.isnull().sum()"
      ],
      "execution_count": null,
      "outputs": [
        {
          "output_type": "execute_result",
          "data": {
            "text/plain": [
              "Location           0\n",
              "Price              0\n",
              "Rooms              0\n",
              "Bathrooms          0\n",
              "Car Parks          0\n",
              "Property Type      0\n",
              "Size               0\n",
              "Furnishing         0\n",
              "Built or Land      0\n",
              "sq ft size       134\n",
              "dtype: int64"
            ]
          },
          "metadata": {
            "tags": []
          },
          "execution_count": 562
        }
      ]
    },
    {
      "cell_type": "code",
      "metadata": {
        "id": "i93YdRVlH06E",
        "colab_type": "code",
        "colab": {
          "base_uri": "https://localhost:8080/",
          "height": 180
        },
        "outputId": "8262eef2-6868-4d04-f23e-e1e0569833c4"
      },
      "source": [
        "# a little clean-up\n",
        "data = data.dropna(subset=[\"sq ft size\"])\n",
        "data = data.drop([\"Size\"],axis=1)\n",
        "data.isnull().sum()"
      ],
      "execution_count": null,
      "outputs": [
        {
          "output_type": "execute_result",
          "data": {
            "text/plain": [
              "Location         0\n",
              "Price            0\n",
              "Rooms            0\n",
              "Bathrooms        0\n",
              "Car Parks        0\n",
              "Property Type    0\n",
              "Furnishing       0\n",
              "Built or Land    0\n",
              "sq ft size       0\n",
              "dtype: int64"
            ]
          },
          "metadata": {
            "tags": []
          },
          "execution_count": 563
        }
      ]
    },
    {
      "cell_type": "code",
      "metadata": {
        "id": "pDltnNkTIUID",
        "colab_type": "code",
        "colab": {
          "base_uri": "https://localhost:8080/",
          "height": 191
        },
        "outputId": "38ab7182-f3f9-450c-f259-6bccb4d25f19"
      },
      "source": [
        "data.rename(columns={\"sq ft size\": \"Size\"},inplace=True)\n",
        "data.head()"
      ],
      "execution_count": null,
      "outputs": [
        {
          "output_type": "execute_result",
          "data": {
            "text/html": [
              "<div>\n",
              "<style scoped>\n",
              "    .dataframe tbody tr th:only-of-type {\n",
              "        vertical-align: middle;\n",
              "    }\n",
              "\n",
              "    .dataframe tbody tr th {\n",
              "        vertical-align: top;\n",
              "    }\n",
              "\n",
              "    .dataframe thead th {\n",
              "        text-align: right;\n",
              "    }\n",
              "</style>\n",
              "<table border=\"1\" class=\"dataframe\">\n",
              "  <thead>\n",
              "    <tr style=\"text-align: right;\">\n",
              "      <th></th>\n",
              "      <th>Location</th>\n",
              "      <th>Price</th>\n",
              "      <th>Rooms</th>\n",
              "      <th>Bathrooms</th>\n",
              "      <th>Car Parks</th>\n",
              "      <th>Property Type</th>\n",
              "      <th>Furnishing</th>\n",
              "      <th>Built or Land</th>\n",
              "      <th>Size</th>\n",
              "    </tr>\n",
              "  </thead>\n",
              "  <tbody>\n",
              "    <tr>\n",
              "      <th>0</th>\n",
              "      <td>KLCC</td>\n",
              "      <td>1,250,000</td>\n",
              "      <td>3</td>\n",
              "      <td>3.0</td>\n",
              "      <td>2.0</td>\n",
              "      <td>Serviced Residence</td>\n",
              "      <td>Fully Furnished</td>\n",
              "      <td>Built-up</td>\n",
              "      <td>1335.0</td>\n",
              "    </tr>\n",
              "    <tr>\n",
              "      <th>1</th>\n",
              "      <td>Damansara Heights</td>\n",
              "      <td>6,800,000</td>\n",
              "      <td>6</td>\n",
              "      <td>7.0</td>\n",
              "      <td>0.0</td>\n",
              "      <td>Bungalow</td>\n",
              "      <td>Partly Furnished</td>\n",
              "      <td>Land area</td>\n",
              "      <td>6900.0</td>\n",
              "    </tr>\n",
              "    <tr>\n",
              "      <th>2</th>\n",
              "      <td>Dutamas</td>\n",
              "      <td>1,030,000</td>\n",
              "      <td>3</td>\n",
              "      <td>4.0</td>\n",
              "      <td>2.0</td>\n",
              "      <td>Condominium (Corner)</td>\n",
              "      <td>Partly Furnished</td>\n",
              "      <td>Built-up</td>\n",
              "      <td>1875.0</td>\n",
              "    </tr>\n",
              "    <tr>\n",
              "      <th>4</th>\n",
              "      <td>Bukit Jalil</td>\n",
              "      <td>900,000</td>\n",
              "      <td>5</td>\n",
              "      <td>3.0</td>\n",
              "      <td>2.0</td>\n",
              "      <td>Condominium (Corner)</td>\n",
              "      <td>Partly Furnished</td>\n",
              "      <td>Built-up</td>\n",
              "      <td>1513.0</td>\n",
              "    </tr>\n",
              "    <tr>\n",
              "      <th>5</th>\n",
              "      <td>Taman Tun Dr Ismail</td>\n",
              "      <td>5,350,000</td>\n",
              "      <td>6</td>\n",
              "      <td>5.0</td>\n",
              "      <td>4.0</td>\n",
              "      <td>Bungalow</td>\n",
              "      <td>Partly Furnished</td>\n",
              "      <td>Land area</td>\n",
              "      <td>7200.0</td>\n",
              "    </tr>\n",
              "  </tbody>\n",
              "</table>\n",
              "</div>"
            ],
            "text/plain": [
              "              Location      Price  ...  Built or Land    Size\n",
              "0                 KLCC  1,250,000  ...      Built-up   1335.0\n",
              "1    Damansara Heights  6,800,000  ...     Land area   6900.0\n",
              "2              Dutamas  1,030,000  ...      Built-up   1875.0\n",
              "4          Bukit Jalil    900,000  ...      Built-up   1513.0\n",
              "5  Taman Tun Dr Ismail  5,350,000  ...     Land area   7200.0\n",
              "\n",
              "[5 rows x 9 columns]"
            ]
          },
          "metadata": {
            "tags": []
          },
          "execution_count": 564
        }
      ]
    },
    {
      "cell_type": "code",
      "metadata": {
        "id": "tkFYVaSbJ3q3",
        "colab_type": "code",
        "colab": {
          "base_uri": "https://localhost:8080/",
          "height": 191
        },
        "outputId": "83173762-76da-4500-d174-65f1ca747089"
      },
      "source": [
        "#Cleaning up property type\n",
        "# Extract stuff in parentheses\n",
        "type2_regex = re.compile(r'\\((\\w+)\\)')\n",
        "house_info_type2 = data[\"Property Type\"].str.findall(type2_regex)\n",
        "data[\"Extra info\"] = house_info_type2\n",
        "data[\"Property Type\"] = data[\"Property Type\"].str.replace(type2_regex,\"\")\n",
        "data.head()"
      ],
      "execution_count": null,
      "outputs": [
        {
          "output_type": "execute_result",
          "data": {
            "text/html": [
              "<div>\n",
              "<style scoped>\n",
              "    .dataframe tbody tr th:only-of-type {\n",
              "        vertical-align: middle;\n",
              "    }\n",
              "\n",
              "    .dataframe tbody tr th {\n",
              "        vertical-align: top;\n",
              "    }\n",
              "\n",
              "    .dataframe thead th {\n",
              "        text-align: right;\n",
              "    }\n",
              "</style>\n",
              "<table border=\"1\" class=\"dataframe\">\n",
              "  <thead>\n",
              "    <tr style=\"text-align: right;\">\n",
              "      <th></th>\n",
              "      <th>Location</th>\n",
              "      <th>Price</th>\n",
              "      <th>Rooms</th>\n",
              "      <th>Bathrooms</th>\n",
              "      <th>Car Parks</th>\n",
              "      <th>Property Type</th>\n",
              "      <th>Furnishing</th>\n",
              "      <th>Built or Land</th>\n",
              "      <th>Size</th>\n",
              "      <th>Extra info</th>\n",
              "    </tr>\n",
              "  </thead>\n",
              "  <tbody>\n",
              "    <tr>\n",
              "      <th>0</th>\n",
              "      <td>KLCC</td>\n",
              "      <td>1,250,000</td>\n",
              "      <td>3</td>\n",
              "      <td>3.0</td>\n",
              "      <td>2.0</td>\n",
              "      <td>Serviced Residence</td>\n",
              "      <td>Fully Furnished</td>\n",
              "      <td>Built-up</td>\n",
              "      <td>1335.0</td>\n",
              "      <td>[]</td>\n",
              "    </tr>\n",
              "    <tr>\n",
              "      <th>1</th>\n",
              "      <td>Damansara Heights</td>\n",
              "      <td>6,800,000</td>\n",
              "      <td>6</td>\n",
              "      <td>7.0</td>\n",
              "      <td>0.0</td>\n",
              "      <td>Bungalow</td>\n",
              "      <td>Partly Furnished</td>\n",
              "      <td>Land area</td>\n",
              "      <td>6900.0</td>\n",
              "      <td>[]</td>\n",
              "    </tr>\n",
              "    <tr>\n",
              "      <th>2</th>\n",
              "      <td>Dutamas</td>\n",
              "      <td>1,030,000</td>\n",
              "      <td>3</td>\n",
              "      <td>4.0</td>\n",
              "      <td>2.0</td>\n",
              "      <td>Condominium</td>\n",
              "      <td>Partly Furnished</td>\n",
              "      <td>Built-up</td>\n",
              "      <td>1875.0</td>\n",
              "      <td>[Corner]</td>\n",
              "    </tr>\n",
              "    <tr>\n",
              "      <th>4</th>\n",
              "      <td>Bukit Jalil</td>\n",
              "      <td>900,000</td>\n",
              "      <td>5</td>\n",
              "      <td>3.0</td>\n",
              "      <td>2.0</td>\n",
              "      <td>Condominium</td>\n",
              "      <td>Partly Furnished</td>\n",
              "      <td>Built-up</td>\n",
              "      <td>1513.0</td>\n",
              "      <td>[Corner]</td>\n",
              "    </tr>\n",
              "    <tr>\n",
              "      <th>5</th>\n",
              "      <td>Taman Tun Dr Ismail</td>\n",
              "      <td>5,350,000</td>\n",
              "      <td>6</td>\n",
              "      <td>5.0</td>\n",
              "      <td>4.0</td>\n",
              "      <td>Bungalow</td>\n",
              "      <td>Partly Furnished</td>\n",
              "      <td>Land area</td>\n",
              "      <td>7200.0</td>\n",
              "      <td>[]</td>\n",
              "    </tr>\n",
              "  </tbody>\n",
              "</table>\n",
              "</div>"
            ],
            "text/plain": [
              "              Location      Price  Rooms  ...  Built or Land    Size Extra info\n",
              "0                 KLCC  1,250,000      3  ...      Built-up   1335.0         []\n",
              "1    Damansara Heights  6,800,000      6  ...     Land area   6900.0         []\n",
              "2              Dutamas  1,030,000      3  ...      Built-up   1875.0   [Corner]\n",
              "4          Bukit Jalil    900,000      5  ...      Built-up   1513.0   [Corner]\n",
              "5  Taman Tun Dr Ismail  5,350,000      6  ...     Land area   7200.0         []\n",
              "\n",
              "[5 rows x 10 columns]"
            ]
          },
          "metadata": {
            "tags": []
          },
          "execution_count": 565
        }
      ]
    },
    {
      "cell_type": "code",
      "metadata": {
        "id": "WBqm8f_sLOOJ",
        "colab_type": "code",
        "colab": {
          "base_uri": "https://localhost:8080/",
          "height": 191
        },
        "outputId": "1d642587-8602-4b8a-9f56-e0eded8bde7f"
      },
      "source": [
        "#Clean empty spaces at the end of the propety types: '4.5-sty Terrace/Link House '\n",
        "data[\"Property Type\"] = data[\"Property Type\"].str.rstrip()\n",
        "#Convert House info type 2 into str\n",
        "data[\"Extra info\"] = data[\"Extra info\"].apply(lambda x:' '.join(x))\n",
        "#Reorder columns for convenience\n",
        "data = data[[\"Price\",\"Size\",\"Location\",\"Property Type\",\"Extra info\",\"Built or Land\",\"Rooms\",\"Car Parks\",\"Bathrooms\",\"Furnishing\"]]\n",
        "data.head()"
      ],
      "execution_count": null,
      "outputs": [
        {
          "output_type": "execute_result",
          "data": {
            "text/html": [
              "<div>\n",
              "<style scoped>\n",
              "    .dataframe tbody tr th:only-of-type {\n",
              "        vertical-align: middle;\n",
              "    }\n",
              "\n",
              "    .dataframe tbody tr th {\n",
              "        vertical-align: top;\n",
              "    }\n",
              "\n",
              "    .dataframe thead th {\n",
              "        text-align: right;\n",
              "    }\n",
              "</style>\n",
              "<table border=\"1\" class=\"dataframe\">\n",
              "  <thead>\n",
              "    <tr style=\"text-align: right;\">\n",
              "      <th></th>\n",
              "      <th>Price</th>\n",
              "      <th>Size</th>\n",
              "      <th>Location</th>\n",
              "      <th>Property Type</th>\n",
              "      <th>Extra info</th>\n",
              "      <th>Built or Land</th>\n",
              "      <th>Rooms</th>\n",
              "      <th>Car Parks</th>\n",
              "      <th>Bathrooms</th>\n",
              "      <th>Furnishing</th>\n",
              "    </tr>\n",
              "  </thead>\n",
              "  <tbody>\n",
              "    <tr>\n",
              "      <th>0</th>\n",
              "      <td>1,250,000</td>\n",
              "      <td>1335.0</td>\n",
              "      <td>KLCC</td>\n",
              "      <td>Serviced Residence</td>\n",
              "      <td></td>\n",
              "      <td>Built-up</td>\n",
              "      <td>3</td>\n",
              "      <td>2.0</td>\n",
              "      <td>3.0</td>\n",
              "      <td>Fully Furnished</td>\n",
              "    </tr>\n",
              "    <tr>\n",
              "      <th>1</th>\n",
              "      <td>6,800,000</td>\n",
              "      <td>6900.0</td>\n",
              "      <td>Damansara Heights</td>\n",
              "      <td>Bungalow</td>\n",
              "      <td></td>\n",
              "      <td>Land area</td>\n",
              "      <td>6</td>\n",
              "      <td>0.0</td>\n",
              "      <td>7.0</td>\n",
              "      <td>Partly Furnished</td>\n",
              "    </tr>\n",
              "    <tr>\n",
              "      <th>2</th>\n",
              "      <td>1,030,000</td>\n",
              "      <td>1875.0</td>\n",
              "      <td>Dutamas</td>\n",
              "      <td>Condominium</td>\n",
              "      <td>Corner</td>\n",
              "      <td>Built-up</td>\n",
              "      <td>3</td>\n",
              "      <td>2.0</td>\n",
              "      <td>4.0</td>\n",
              "      <td>Partly Furnished</td>\n",
              "    </tr>\n",
              "    <tr>\n",
              "      <th>4</th>\n",
              "      <td>900,000</td>\n",
              "      <td>1513.0</td>\n",
              "      <td>Bukit Jalil</td>\n",
              "      <td>Condominium</td>\n",
              "      <td>Corner</td>\n",
              "      <td>Built-up</td>\n",
              "      <td>5</td>\n",
              "      <td>2.0</td>\n",
              "      <td>3.0</td>\n",
              "      <td>Partly Furnished</td>\n",
              "    </tr>\n",
              "    <tr>\n",
              "      <th>5</th>\n",
              "      <td>5,350,000</td>\n",
              "      <td>7200.0</td>\n",
              "      <td>Taman Tun Dr Ismail</td>\n",
              "      <td>Bungalow</td>\n",
              "      <td></td>\n",
              "      <td>Land area</td>\n",
              "      <td>6</td>\n",
              "      <td>4.0</td>\n",
              "      <td>5.0</td>\n",
              "      <td>Partly Furnished</td>\n",
              "    </tr>\n",
              "  </tbody>\n",
              "</table>\n",
              "</div>"
            ],
            "text/plain": [
              "       Price    Size  ... Bathrooms        Furnishing\n",
              "0  1,250,000  1335.0  ...       3.0   Fully Furnished\n",
              "1  6,800,000  6900.0  ...       7.0  Partly Furnished\n",
              "2  1,030,000  1875.0  ...       4.0  Partly Furnished\n",
              "4    900,000  1513.0  ...       3.0  Partly Furnished\n",
              "5  5,350,000  7200.0  ...       5.0  Partly Furnished\n",
              "\n",
              "[5 rows x 10 columns]"
            ]
          },
          "metadata": {
            "tags": []
          },
          "execution_count": 566
        }
      ]
    },
    {
      "cell_type": "code",
      "metadata": {
        "id": "UI6q3VLFMTNb",
        "colab_type": "code",
        "colab": {
          "base_uri": "https://localhost:8080/",
          "height": 180
        },
        "outputId": "59ae5abc-88f7-4fff-f1f7-3305df6e0354"
      },
      "source": [
        "data[\"Extra info\"] = np.where(data[\"Extra info\"]==\"\",\"Unknown\",data[\"Extra info\"])\n",
        "data[\"Extra info\"].value_counts()"
      ],
      "execution_count": null,
      "outputs": [
        {
          "output_type": "execute_result",
          "data": {
            "text/plain": [
              "Unknown         22872\n",
              "Intermediate    15460\n",
              "Corner          10055\n",
              "EndLot           1173\n",
              "Duplex            367\n",
              "Penthouse         362\n",
              "Studio             96\n",
              "SOHO               71\n",
              "Triplex            33\n",
              "Name: Extra info, dtype: int64"
            ]
          },
          "metadata": {
            "tags": []
          },
          "execution_count": 567
        }
      ]
    },
    {
      "cell_type": "code",
      "metadata": {
        "id": "kCniLxABMijS",
        "colab_type": "code",
        "colab": {
          "base_uri": "https://localhost:8080/",
          "height": 191
        },
        "outputId": "772089ca-7050-4c65-e9e4-37dd52dab524"
      },
      "source": [
        "data.head()"
      ],
      "execution_count": null,
      "outputs": [
        {
          "output_type": "execute_result",
          "data": {
            "text/html": [
              "<div>\n",
              "<style scoped>\n",
              "    .dataframe tbody tr th:only-of-type {\n",
              "        vertical-align: middle;\n",
              "    }\n",
              "\n",
              "    .dataframe tbody tr th {\n",
              "        vertical-align: top;\n",
              "    }\n",
              "\n",
              "    .dataframe thead th {\n",
              "        text-align: right;\n",
              "    }\n",
              "</style>\n",
              "<table border=\"1\" class=\"dataframe\">\n",
              "  <thead>\n",
              "    <tr style=\"text-align: right;\">\n",
              "      <th></th>\n",
              "      <th>Price</th>\n",
              "      <th>Size</th>\n",
              "      <th>Location</th>\n",
              "      <th>Property Type</th>\n",
              "      <th>Extra info</th>\n",
              "      <th>Built or Land</th>\n",
              "      <th>Rooms</th>\n",
              "      <th>Car Parks</th>\n",
              "      <th>Bathrooms</th>\n",
              "      <th>Furnishing</th>\n",
              "    </tr>\n",
              "  </thead>\n",
              "  <tbody>\n",
              "    <tr>\n",
              "      <th>0</th>\n",
              "      <td>1,250,000</td>\n",
              "      <td>1335.0</td>\n",
              "      <td>KLCC</td>\n",
              "      <td>Serviced Residence</td>\n",
              "      <td>Unknown</td>\n",
              "      <td>Built-up</td>\n",
              "      <td>3</td>\n",
              "      <td>2.0</td>\n",
              "      <td>3.0</td>\n",
              "      <td>Fully Furnished</td>\n",
              "    </tr>\n",
              "    <tr>\n",
              "      <th>1</th>\n",
              "      <td>6,800,000</td>\n",
              "      <td>6900.0</td>\n",
              "      <td>Damansara Heights</td>\n",
              "      <td>Bungalow</td>\n",
              "      <td>Unknown</td>\n",
              "      <td>Land area</td>\n",
              "      <td>6</td>\n",
              "      <td>0.0</td>\n",
              "      <td>7.0</td>\n",
              "      <td>Partly Furnished</td>\n",
              "    </tr>\n",
              "    <tr>\n",
              "      <th>2</th>\n",
              "      <td>1,030,000</td>\n",
              "      <td>1875.0</td>\n",
              "      <td>Dutamas</td>\n",
              "      <td>Condominium</td>\n",
              "      <td>Corner</td>\n",
              "      <td>Built-up</td>\n",
              "      <td>3</td>\n",
              "      <td>2.0</td>\n",
              "      <td>4.0</td>\n",
              "      <td>Partly Furnished</td>\n",
              "    </tr>\n",
              "    <tr>\n",
              "      <th>4</th>\n",
              "      <td>900,000</td>\n",
              "      <td>1513.0</td>\n",
              "      <td>Bukit Jalil</td>\n",
              "      <td>Condominium</td>\n",
              "      <td>Corner</td>\n",
              "      <td>Built-up</td>\n",
              "      <td>5</td>\n",
              "      <td>2.0</td>\n",
              "      <td>3.0</td>\n",
              "      <td>Partly Furnished</td>\n",
              "    </tr>\n",
              "    <tr>\n",
              "      <th>5</th>\n",
              "      <td>5,350,000</td>\n",
              "      <td>7200.0</td>\n",
              "      <td>Taman Tun Dr Ismail</td>\n",
              "      <td>Bungalow</td>\n",
              "      <td>Unknown</td>\n",
              "      <td>Land area</td>\n",
              "      <td>6</td>\n",
              "      <td>4.0</td>\n",
              "      <td>5.0</td>\n",
              "      <td>Partly Furnished</td>\n",
              "    </tr>\n",
              "  </tbody>\n",
              "</table>\n",
              "</div>"
            ],
            "text/plain": [
              "       Price    Size  ... Bathrooms        Furnishing\n",
              "0  1,250,000  1335.0  ...       3.0   Fully Furnished\n",
              "1  6,800,000  6900.0  ...       7.0  Partly Furnished\n",
              "2  1,030,000  1875.0  ...       4.0  Partly Furnished\n",
              "4    900,000  1513.0  ...       3.0  Partly Furnished\n",
              "5  5,350,000  7200.0  ...       5.0  Partly Furnished\n",
              "\n",
              "[5 rows x 10 columns]"
            ]
          },
          "metadata": {
            "tags": []
          },
          "execution_count": 568
        }
      ]
    },
    {
      "cell_type": "code",
      "metadata": {
        "id": "-DwT_AWHMk5x",
        "colab_type": "code",
        "colab": {}
      },
      "source": [
        "data[\"Price\"] = data[\"Price\"].str.replace(\",\",\"\")\n",
        "data[\"Price\"] = data[\"Price\"].astype(int)"
      ],
      "execution_count": null,
      "outputs": []
    },
    {
      "cell_type": "code",
      "metadata": {
        "id": "myuddV9QMrih",
        "colab_type": "code",
        "colab": {
          "base_uri": "https://localhost:8080/",
          "height": 163
        },
        "outputId": "32d74709-e9e7-49ea-ba24-10f16d4c2d53"
      },
      "source": [
        "data[\"Price\"].describe()"
      ],
      "execution_count": null,
      "outputs": [
        {
          "output_type": "execute_result",
          "data": {
            "text/plain": [
              "count    5.048900e+04\n",
              "mean     1.831126e+06\n",
              "std      1.262203e+07\n",
              "min      3.080000e+02\n",
              "25%      5.800000e+05\n",
              "50%      9.800000e+05\n",
              "75%      1.900000e+06\n",
              "max      1.980000e+09\n",
              "Name: Price, dtype: float64"
            ]
          },
          "metadata": {
            "tags": []
          },
          "execution_count": 570
        }
      ]
    },
    {
      "cell_type": "code",
      "metadata": {
        "id": "8i6caHaON-Jr",
        "colab_type": "code",
        "colab": {}
      },
      "source": [
        "#clip prices a bit\n",
        "data_clean = data[data[\"Price\"] < 22_000_000]"
      ],
      "execution_count": null,
      "outputs": []
    },
    {
      "cell_type": "code",
      "metadata": {
        "id": "EOkZ6-ZjOD3L",
        "colab_type": "code",
        "colab": {
          "base_uri": "https://localhost:8080/",
          "height": 196
        },
        "outputId": "54e8cca9-6455-4204-a55e-54d5eb776a8a"
      },
      "source": [
        "data_clean.dtypes #OK"
      ],
      "execution_count": null,
      "outputs": [
        {
          "output_type": "execute_result",
          "data": {
            "text/plain": [
              "Price              int64\n",
              "Size             float64\n",
              "Location          object\n",
              "Property Type     object\n",
              "Extra info        object\n",
              "Built or Land     object\n",
              "Rooms              int64\n",
              "Car Parks        float64\n",
              "Bathrooms        float64\n",
              "Furnishing        object\n",
              "dtype: object"
            ]
          },
          "metadata": {
            "tags": []
          },
          "execution_count": 572
        }
      ]
    },
    {
      "cell_type": "code",
      "metadata": {
        "id": "peEyIxxiOGvh",
        "colab_type": "code",
        "colab": {}
      },
      "source": [
        "#Create dummy data without \"Propety type\" and \"Extra info\" just to see how it performs\n",
        "\n",
        "categorical_columns = [\"Location\",\"Built or Land\",\"Furnishing\"]\n",
        "dummy_cats = pd.get_dummies(data_clean[categorical_columns])\n",
        "\n",
        "drop_data = data_clean.drop(columns=categorical_columns+[\"Property Type\",\"Extra info\"])\n",
        "onehot_data = drop_data.join(dummy_cats)"
      ],
      "execution_count": null,
      "outputs": []
    },
    {
      "cell_type": "code",
      "metadata": {
        "id": "P-lyeOYcRjpn",
        "colab_type": "code",
        "colab": {
          "base_uri": "https://localhost:8080/",
          "height": 196
        },
        "outputId": "fb521194-bc07-4c58-d7a2-c1945129ed7c"
      },
      "source": [
        "onehot_data.columns"
      ],
      "execution_count": null,
      "outputs": [
        {
          "output_type": "execute_result",
          "data": {
            "text/plain": [
              "Index(['Price', 'Size', 'Rooms', 'Car Parks', 'Bathrooms',\n",
              "       'Location_ADIVA Desa ParkCity', 'Location_Alam Damai',\n",
              "       'Location_Ampang', 'Location_Ampang Hilir',\n",
              "       'Location_Bandar Damai Perdana',\n",
              "       ...\n",
              "       'Location_cyberjaya', 'Location_duta Nusantara', 'Location_kepong',\n",
              "       'Location_taman cheras perdana', 'Location_taman connaught',\n",
              "       'Built or Land_Built-up ', 'Built or Land_Land area ',\n",
              "       'Furnishing_Fully Furnished', 'Furnishing_Partly Furnished',\n",
              "       'Furnishing_Unfurnished'],\n",
              "      dtype='object', length=114)"
            ]
          },
          "metadata": {
            "tags": []
          },
          "execution_count": 574
        }
      ]
    },
    {
      "cell_type": "code",
      "metadata": {
        "id": "XV_l49EmRo7J",
        "colab_type": "code",
        "colab": {
          "base_uri": "https://localhost:8080/",
          "height": 33
        },
        "outputId": "983645a1-d19e-42a6-e026-266db6eb8f5b"
      },
      "source": [
        "len(onehot_data.columns)"
      ],
      "execution_count": null,
      "outputs": [
        {
          "output_type": "execute_result",
          "data": {
            "text/plain": [
              "114"
            ]
          },
          "metadata": {
            "tags": []
          },
          "execution_count": 575
        }
      ]
    },
    {
      "cell_type": "code",
      "metadata": {
        "id": "yUBZ_KaTR71O",
        "colab_type": "code",
        "colab": {}
      },
      "source": [
        "from sklearn.tree import DecisionTreeRegressor\n",
        "from sklearn.model_selection import train_test_split\n",
        "\n",
        "train,test = train_test_split(onehot_data,test_size = 0.2)\n",
        "#train\n",
        "X_train = train.drop(columns=\"Price\")\n",
        "Y_train = train[\"Price\"]\n",
        "\n",
        "#test\n",
        "X_test = test.drop(columns=\"Price\")\n",
        "Y_test = test[\"Price\"]"
      ],
      "execution_count": null,
      "outputs": []
    },
    {
      "cell_type": "code",
      "metadata": {
        "id": "Ow_59-DnR-1Z",
        "colab_type": "code",
        "colab": {}
      },
      "source": [
        "regtree = DecisionTreeRegressor(min_samples_split=30,min_samples_leaf=10,random_state=0)"
      ],
      "execution_count": null,
      "outputs": []
    },
    {
      "cell_type": "code",
      "metadata": {
        "id": "K3ePHcT9SCFi",
        "colab_type": "code",
        "colab": {
          "base_uri": "https://localhost:8080/",
          "height": 115
        },
        "outputId": "3532e6e4-5a91-4ff4-89f4-ee485496c634"
      },
      "source": [
        "regtree.fit(X_train,Y_train)"
      ],
      "execution_count": null,
      "outputs": [
        {
          "output_type": "execute_result",
          "data": {
            "text/plain": [
              "DecisionTreeRegressor(ccp_alpha=0.0, criterion='mse', max_depth=None,\n",
              "                      max_features=None, max_leaf_nodes=None,\n",
              "                      min_impurity_decrease=0.0, min_impurity_split=None,\n",
              "                      min_samples_leaf=10, min_samples_split=30,\n",
              "                      min_weight_fraction_leaf=0.0, presort='deprecated',\n",
              "                      random_state=0, splitter='best')"
            ]
          },
          "metadata": {
            "tags": []
          },
          "execution_count": 578
        }
      ]
    },
    {
      "cell_type": "code",
      "metadata": {
        "id": "lFujX7dwSEAw",
        "colab_type": "code",
        "colab": {}
      },
      "source": [
        "predictions = regtree.predict(X_test)"
      ],
      "execution_count": null,
      "outputs": []
    },
    {
      "cell_type": "code",
      "metadata": {
        "id": "NuFJPFVxSG5x",
        "colab_type": "code",
        "colab": {
          "base_uri": "https://localhost:8080/",
          "height": 33
        },
        "outputId": "a9877780-ad84-413e-925d-66843f19470a"
      },
      "source": [
        "from sklearn.metrics import r2_score\n",
        "r2_score(Y_test,predictions)"
      ],
      "execution_count": null,
      "outputs": [
        {
          "output_type": "execute_result",
          "data": {
            "text/plain": [
              "0.847439762551905"
            ]
          },
          "metadata": {
            "tags": []
          },
          "execution_count": 580
        }
      ]
    },
    {
      "cell_type": "code",
      "metadata": {
        "id": "NAEOwL3LSVmQ",
        "colab_type": "code",
        "colab": {
          "base_uri": "https://localhost:8080/",
          "height": 33
        },
        "outputId": "be94306c-b109-4296-ace5-c7dfc1be1734"
      },
      "source": [
        "from sklearn.model_selection import cross_val_score\n",
        "regtree_scores = cross_val_score(regtree,X_train,Y_train,cv=10)\n",
        "print(f\"mean cross validation score: {np.mean(regtree_scores)}\")"
      ],
      "execution_count": null,
      "outputs": [
        {
          "output_type": "stream",
          "text": [
            "mean cross validation score: 0.8415595543800201\n"
          ],
          "name": "stdout"
        }
      ]
    },
    {
      "cell_type": "code",
      "metadata": {
        "id": "oIQDLOKASxBL",
        "colab_type": "code",
        "colab": {
          "base_uri": "https://localhost:8080/",
          "height": 288
        },
        "outputId": "3c2a143f-1b15-4b11-bf86-eee74cf4f543"
      },
      "source": [
        "import matplotlib.pyplot as plt\n",
        "\n",
        "plt.scatter(x=Y_test,y=predictions,color=\"r\")\n",
        "plt.plot([0,22_000_000],[0,22_000_000])\n",
        "plt.grid()"
      ],
      "execution_count": null,
      "outputs": [
        {
          "output_type": "display_data",
          "data": {
            "image/png": "[encoded data removed]",
            "text/plain": [
              "<Figure size 432x288 with 1 Axes>"
            ]
          },
          "metadata": {
            "tags": [],
            "needs_background": "light"
          }
        }
      ]
    }
  ]
}