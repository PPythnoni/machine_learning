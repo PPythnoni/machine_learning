{
  "nbformat": 4,
  "nbformat_minor": 0,
  "metadata": {
    "colab": {
      "name": "restaurant_recommender.ipynb",
      "provenance": [],
      "collapsed_sections": []
    },
    "kernelspec": {
      "name": "python3",
      "display_name": "Python 3"
    }
  },
  "cells": [
    {
      "cell_type": "markdown",
      "metadata": {
        "id": "goeqC4KtbeLy",
        "colab_type": "text"
      },
      "source": [
        "**Objective**:\n",
        "1. Build a restaurant recommender"
      ]
    },
    {
      "cell_type": "code",
      "metadata": {
        "id": "JJQmdPOcfuiN",
        "colab_type": "code",
        "colab": {
          "base_uri": "https://localhost:8080/",
          "height": 191
        },
        "outputId": "73ea176c-7477-4473-c4c8-bac5e65ae1c7"
      },
      "source": [
        "import pandas as pd\n",
        "data = pd.read_csv(\"restaurants_cleaned.csv\")\n",
        "data.head()"
      ],
      "execution_count": null,
      "outputs": [
        {
          "output_type": "execute_result",
          "data": {
            "text/html": [
              "<div>\n",
              "<style scoped>\n",
              "    .dataframe tbody tr th:only-of-type {\n",
              "        vertical-align: middle;\n",
              "    }\n",
              "\n",
              "    .dataframe tbody tr th {\n",
              "        vertical-align: top;\n",
              "    }\n",
              "\n",
              "    .dataframe thead th {\n",
              "        text-align: right;\n",
              "    }\n",
              "</style>\n",
              "<table border=\"1\" class=\"dataframe\">\n",
              "  <thead>\n",
              "    <tr style=\"text-align: right;\">\n",
              "      <th></th>\n",
              "      <th>Unnamed: 0</th>\n",
              "      <th>Ranking</th>\n",
              "      <th>Rating</th>\n",
              "      <th>Name</th>\n",
              "      <th>City</th>\n",
              "      <th>Cuisine Style</th>\n",
              "      <th>Price Range</th>\n",
              "      <th>Number of Reviews</th>\n",
              "      <th>Reviews</th>\n",
              "    </tr>\n",
              "  </thead>\n",
              "  <tbody>\n",
              "    <tr>\n",
              "      <th>0</th>\n",
              "      <td>0</td>\n",
              "      <td>1.0</td>\n",
              "      <td>5.0</td>\n",
              "      <td>Martine of Martine's Table</td>\n",
              "      <td>Amsterdam</td>\n",
              "      <td>['French', 'Dutch', 'European']</td>\n",
              "      <td>Mid-range</td>\n",
              "      <td>136.0</td>\n",
              "      <td>[['Just like home', 'A Warm Welcome to Wintry ...</td>\n",
              "    </tr>\n",
              "    <tr>\n",
              "      <th>1</th>\n",
              "      <td>1</td>\n",
              "      <td>2.0</td>\n",
              "      <td>4.5</td>\n",
              "      <td>De Silveren Spiegel</td>\n",
              "      <td>Amsterdam</td>\n",
              "      <td>['Dutch', 'European', 'Vegetarian Friendly', '...</td>\n",
              "      <td>Splurge</td>\n",
              "      <td>812.0</td>\n",
              "      <td>[['Great food and staff', 'just perfect'], ['0...</td>\n",
              "    </tr>\n",
              "    <tr>\n",
              "      <th>2</th>\n",
              "      <td>2</td>\n",
              "      <td>3.0</td>\n",
              "      <td>4.5</td>\n",
              "      <td>La Rive</td>\n",
              "      <td>Amsterdam</td>\n",
              "      <td>['Mediterranean', 'French', 'International', '...</td>\n",
              "      <td>Splurge</td>\n",
              "      <td>567.0</td>\n",
              "      <td>[['Satisfaction', 'Delicious old school restau...</td>\n",
              "    </tr>\n",
              "    <tr>\n",
              "      <th>3</th>\n",
              "      <td>3</td>\n",
              "      <td>4.0</td>\n",
              "      <td>5.0</td>\n",
              "      <td>Vinkeles</td>\n",
              "      <td>Amsterdam</td>\n",
              "      <td>['French', 'European', 'International', 'Conte...</td>\n",
              "      <td>Splurge</td>\n",
              "      <td>564.0</td>\n",
              "      <td>[['True five star dinner', 'A superb evening o...</td>\n",
              "    </tr>\n",
              "    <tr>\n",
              "      <th>4</th>\n",
              "      <td>4</td>\n",
              "      <td>5.0</td>\n",
              "      <td>4.5</td>\n",
              "      <td>Librije's Zusje Amsterdam</td>\n",
              "      <td>Amsterdam</td>\n",
              "      <td>['Dutch', 'European', 'International', 'Vegeta...</td>\n",
              "      <td>Splurge</td>\n",
              "      <td>316.0</td>\n",
              "      <td>[['Best meal.... EVER', 'super food experience...</td>\n",
              "    </tr>\n",
              "  </tbody>\n",
              "</table>\n",
              "</div>"
            ],
            "text/plain": [
              "   Unnamed: 0  ...                                            Reviews\n",
              "0           0  ...  [['Just like home', 'A Warm Welcome to Wintry ...\n",
              "1           1  ...  [['Great food and staff', 'just perfect'], ['0...\n",
              "2           2  ...  [['Satisfaction', 'Delicious old school restau...\n",
              "3           3  ...  [['True five star dinner', 'A superb evening o...\n",
              "4           4  ...  [['Best meal.... EVER', 'super food experience...\n",
              "\n",
              "[5 rows x 9 columns]"
            ]
          },
          "metadata": {
            "tags": []
          },
          "execution_count": 58
        }
      ]
    },
    {
      "cell_type": "code",
      "metadata": {
        "id": "8B_nI2lDjhUD",
        "colab_type": "code",
        "colab": {
          "base_uri": "https://localhost:8080/",
          "height": 33
        },
        "outputId": "79ba3bf6-2722-4579-8855-1f2f386d2ee5"
      },
      "source": [
        "data.shape"
      ],
      "execution_count": null,
      "outputs": [
        {
          "output_type": "execute_result",
          "data": {
            "text/plain": [
              "(74225, 9)"
            ]
          },
          "metadata": {
            "tags": []
          },
          "execution_count": 59
        }
      ]
    },
    {
      "cell_type": "code",
      "metadata": {
        "id": "s9oSlOeljj5B",
        "colab_type": "code",
        "colab": {
          "base_uri": "https://localhost:8080/",
          "height": 180
        },
        "outputId": "0e80c77a-d80b-4f29-ae7c-a6fa325987d3"
      },
      "source": [
        "data.isnull().sum()"
      ],
      "execution_count": null,
      "outputs": [
        {
          "output_type": "execute_result",
          "data": {
            "text/plain": [
              "Unnamed: 0           0\n",
              "Ranking              0\n",
              "Rating               0\n",
              "Name                 0\n",
              "City                 0\n",
              "Cuisine Style        0\n",
              "Price Range          0\n",
              "Number of Reviews    0\n",
              "Reviews              0\n",
              "dtype: int64"
            ]
          },
          "metadata": {
            "tags": []
          },
          "execution_count": 60
        }
      ]
    },
    {
      "cell_type": "code",
      "metadata": {
        "id": "HFUUjC1ljngX",
        "colab_type": "code",
        "colab": {}
      },
      "source": [
        "data.drop_duplicates(subset =\"Name\", keep = False, inplace = True)"
      ],
      "execution_count": null,
      "outputs": []
    },
    {
      "cell_type": "code",
      "metadata": {
        "id": "vSL6vYfejveU",
        "colab_type": "code",
        "colab": {
          "base_uri": "https://localhost:8080/",
          "height": 33
        },
        "outputId": "7e68d311-1551-4536-d618-aeb4b24984bc"
      },
      "source": [
        "data.shape"
      ],
      "execution_count": null,
      "outputs": [
        {
          "output_type": "execute_result",
          "data": {
            "text/plain": [
              "(64377, 9)"
            ]
          },
          "metadata": {
            "tags": []
          },
          "execution_count": 62
        }
      ]
    },
    {
      "cell_type": "markdown",
      "metadata": {
        "id": "MGbfUXdZj_E1",
        "colab_type": "text"
      },
      "source": [
        "**Recommender based on City, Cuisine style, Price**"
      ]
    },
    {
      "cell_type": "code",
      "metadata": {
        "id": "vZ1Fsm9yjxHT",
        "colab_type": "code",
        "colab": {}
      },
      "source": [
        "data.drop(columns=[\"Unnamed: 0\"],inplace=True)"
      ],
      "execution_count": null,
      "outputs": []
    },
    {
      "cell_type": "code",
      "metadata": {
        "id": "RILF89iCk4GH",
        "colab_type": "code",
        "colab": {
          "base_uri": "https://localhost:8080/",
          "height": 191
        },
        "outputId": "7a19742b-2d37-4594-8f7a-46f00b70b1a9"
      },
      "source": [
        "data.head()"
      ],
      "execution_count": null,
      "outputs": [
        {
          "output_type": "execute_result",
          "data": {
            "text/html": [
              "<div>\n",
              "<style scoped>\n",
              "    .dataframe tbody tr th:only-of-type {\n",
              "        vertical-align: middle;\n",
              "    }\n",
              "\n",
              "    .dataframe tbody tr th {\n",
              "        vertical-align: top;\n",
              "    }\n",
              "\n",
              "    .dataframe thead th {\n",
              "        text-align: right;\n",
              "    }\n",
              "</style>\n",
              "<table border=\"1\" class=\"dataframe\">\n",
              "  <thead>\n",
              "    <tr style=\"text-align: right;\">\n",
              "      <th></th>\n",
              "      <th>Ranking</th>\n",
              "      <th>Rating</th>\n",
              "      <th>Name</th>\n",
              "      <th>City</th>\n",
              "      <th>Cuisine Style</th>\n",
              "      <th>Price Range</th>\n",
              "      <th>Number of Reviews</th>\n",
              "      <th>Reviews</th>\n",
              "    </tr>\n",
              "  </thead>\n",
              "  <tbody>\n",
              "    <tr>\n",
              "      <th>0</th>\n",
              "      <td>1.0</td>\n",
              "      <td>5.0</td>\n",
              "      <td>Martine of Martine's Table</td>\n",
              "      <td>Amsterdam</td>\n",
              "      <td>['French', 'Dutch', 'European']</td>\n",
              "      <td>Mid-range</td>\n",
              "      <td>136.0</td>\n",
              "      <td>[['Just like home', 'A Warm Welcome to Wintry ...</td>\n",
              "    </tr>\n",
              "    <tr>\n",
              "      <th>1</th>\n",
              "      <td>2.0</td>\n",
              "      <td>4.5</td>\n",
              "      <td>De Silveren Spiegel</td>\n",
              "      <td>Amsterdam</td>\n",
              "      <td>['Dutch', 'European', 'Vegetarian Friendly', '...</td>\n",
              "      <td>Splurge</td>\n",
              "      <td>812.0</td>\n",
              "      <td>[['Great food and staff', 'just perfect'], ['0...</td>\n",
              "    </tr>\n",
              "    <tr>\n",
              "      <th>2</th>\n",
              "      <td>3.0</td>\n",
              "      <td>4.5</td>\n",
              "      <td>La Rive</td>\n",
              "      <td>Amsterdam</td>\n",
              "      <td>['Mediterranean', 'French', 'International', '...</td>\n",
              "      <td>Splurge</td>\n",
              "      <td>567.0</td>\n",
              "      <td>[['Satisfaction', 'Delicious old school restau...</td>\n",
              "    </tr>\n",
              "    <tr>\n",
              "      <th>3</th>\n",
              "      <td>4.0</td>\n",
              "      <td>5.0</td>\n",
              "      <td>Vinkeles</td>\n",
              "      <td>Amsterdam</td>\n",
              "      <td>['French', 'European', 'International', 'Conte...</td>\n",
              "      <td>Splurge</td>\n",
              "      <td>564.0</td>\n",
              "      <td>[['True five star dinner', 'A superb evening o...</td>\n",
              "    </tr>\n",
              "    <tr>\n",
              "      <th>4</th>\n",
              "      <td>5.0</td>\n",
              "      <td>4.5</td>\n",
              "      <td>Librije's Zusje Amsterdam</td>\n",
              "      <td>Amsterdam</td>\n",
              "      <td>['Dutch', 'European', 'International', 'Vegeta...</td>\n",
              "      <td>Splurge</td>\n",
              "      <td>316.0</td>\n",
              "      <td>[['Best meal.... EVER', 'super food experience...</td>\n",
              "    </tr>\n",
              "  </tbody>\n",
              "</table>\n",
              "</div>"
            ],
            "text/plain": [
              "   Ranking  ...                                            Reviews\n",
              "0      1.0  ...  [['Just like home', 'A Warm Welcome to Wintry ...\n",
              "1      2.0  ...  [['Great food and staff', 'just perfect'], ['0...\n",
              "2      3.0  ...  [['Satisfaction', 'Delicious old school restau...\n",
              "3      4.0  ...  [['True five star dinner', 'A superb evening o...\n",
              "4      5.0  ...  [['Best meal.... EVER', 'super food experience...\n",
              "\n",
              "[5 rows x 8 columns]"
            ]
          },
          "metadata": {
            "tags": []
          },
          "execution_count": 64
        }
      ]
    },
    {
      "cell_type": "code",
      "metadata": {
        "id": "6VySABfZk_mJ",
        "colab_type": "code",
        "colab": {
          "base_uri": "https://localhost:8080/",
          "height": 521
        },
        "outputId": "a158ffce-c10d-4605-bf28-862e65feb935"
      },
      "source": [
        "from collections import Counter\n",
        "city_count = data[\"City\"]\n",
        "Counter(city_count)"
      ],
      "execution_count": null,
      "outputs": [
        {
          "output_type": "execute_result",
          "data": {
            "text/plain": [
              "Counter({'Amsterdam': 2188,\n",
              "         'Athens': 1074,\n",
              "         'Barcelona': 4544,\n",
              "         'Berlin': 2972,\n",
              "         'Bratislava': 393,\n",
              "         'Brussels': 1684,\n",
              "         'Budapest': 1500,\n",
              "         'Copenhagen': 1113,\n",
              "         'Dublin': 1252,\n",
              "         'Edinburgh': 1216,\n",
              "         'Geneva': 794,\n",
              "         'Hamburg': 1038,\n",
              "         'Helsinki': 665,\n",
              "         'Krakow': 746,\n",
              "         'Lisbon': 2226,\n",
              "         'Ljubljana': 295,\n",
              "         'London': 9368,\n",
              "         'Luxembourg': 374,\n",
              "         'Lyon': 1195,\n",
              "         'Madrid': 3902,\n",
              "         'Milan': 3305,\n",
              "         'Munich': 1426,\n",
              "         'Oporto': 965,\n",
              "         'Oslo': 676,\n",
              "         'Paris': 8005,\n",
              "         'Prague': 2244,\n",
              "         'Rome': 4218,\n",
              "         'Stockholm': 1189,\n",
              "         'Vienna': 1813,\n",
              "         'Warsaw': 1066,\n",
              "         'Zurich': 931})"
            ]
          },
          "metadata": {
            "tags": []
          },
          "execution_count": 65
        }
      ]
    },
    {
      "cell_type": "code",
      "metadata": {
        "id": "7hd6JBdDlYQ_",
        "colab_type": "code",
        "colab": {
          "base_uri": "https://localhost:8080/",
          "height": 105
        },
        "outputId": "cc731da0-062a-4dcb-80a4-36caac4217df"
      },
      "source": [
        "data_types = data.apply(lambda x: x.apply(lambda y: type(y)).value_counts())\n",
        "data_types"
      ],
      "execution_count": null,
      "outputs": [
        {
          "output_type": "execute_result",
          "data": {
            "text/html": [
              "<div>\n",
              "<style scoped>\n",
              "    .dataframe tbody tr th:only-of-type {\n",
              "        vertical-align: middle;\n",
              "    }\n",
              "\n",
              "    .dataframe tbody tr th {\n",
              "        vertical-align: top;\n",
              "    }\n",
              "\n",
              "    .dataframe thead th {\n",
              "        text-align: right;\n",
              "    }\n",
              "</style>\n",
              "<table border=\"1\" class=\"dataframe\">\n",
              "  <thead>\n",
              "    <tr style=\"text-align: right;\">\n",
              "      <th></th>\n",
              "      <th>Ranking</th>\n",
              "      <th>Rating</th>\n",
              "      <th>Name</th>\n",
              "      <th>City</th>\n",
              "      <th>Cuisine Style</th>\n",
              "      <th>Price Range</th>\n",
              "      <th>Number of Reviews</th>\n",
              "      <th>Reviews</th>\n",
              "    </tr>\n",
              "  </thead>\n",
              "  <tbody>\n",
              "    <tr>\n",
              "      <th>&lt;class 'float'&gt;</th>\n",
              "      <td>64377.0</td>\n",
              "      <td>64377.0</td>\n",
              "      <td>NaN</td>\n",
              "      <td>NaN</td>\n",
              "      <td>NaN</td>\n",
              "      <td>NaN</td>\n",
              "      <td>64377.0</td>\n",
              "      <td>NaN</td>\n",
              "    </tr>\n",
              "    <tr>\n",
              "      <th>&lt;class 'str'&gt;</th>\n",
              "      <td>NaN</td>\n",
              "      <td>NaN</td>\n",
              "      <td>64377.0</td>\n",
              "      <td>64377.0</td>\n",
              "      <td>64377.0</td>\n",
              "      <td>64377.0</td>\n",
              "      <td>NaN</td>\n",
              "      <td>64377.0</td>\n",
              "    </tr>\n",
              "  </tbody>\n",
              "</table>\n",
              "</div>"
            ],
            "text/plain": [
              "                 Ranking   Rating  ...  Number of Reviews  Reviews\n",
              "<class 'float'>  64377.0  64377.0  ...            64377.0      NaN\n",
              "<class 'str'>        NaN      NaN  ...                NaN  64377.0\n",
              "\n",
              "[2 rows x 8 columns]"
            ]
          },
          "metadata": {
            "tags": []
          },
          "execution_count": 66
        }
      ]
    },
    {
      "cell_type": "code",
      "metadata": {
        "id": "RIhIfeAWlhfF",
        "colab_type": "code",
        "colab": {
          "base_uri": "https://localhost:8080/",
          "height": 33
        },
        "outputId": "23dc9ee3-4cb0-42a3-f479-763656e2283f"
      },
      "source": [
        "type(data[\"Cuisine Style\"][0])"
      ],
      "execution_count": null,
      "outputs": [
        {
          "output_type": "execute_result",
          "data": {
            "text/plain": [
              "str"
            ]
          },
          "metadata": {
            "tags": []
          },
          "execution_count": 67
        }
      ]
    },
    {
      "cell_type": "code",
      "metadata": {
        "id": "PE6MqMQ-l-96",
        "colab_type": "code",
        "colab": {}
      },
      "source": [
        "from ast import literal_eval\n",
        "data[\"Cuisine Style\"] = data[\"Cuisine Style\"].apply(literal_eval)"
      ],
      "execution_count": null,
      "outputs": []
    },
    {
      "cell_type": "code",
      "metadata": {
        "id": "o1AU3FJxnYXM",
        "colab_type": "code",
        "colab": {
          "base_uri": "https://localhost:8080/",
          "height": 33
        },
        "outputId": "2aefd04b-1593-469f-ef58-1e87a74bd5c2"
      },
      "source": [
        "type(data[\"Cuisine Style\"][0])"
      ],
      "execution_count": null,
      "outputs": [
        {
          "output_type": "execute_result",
          "data": {
            "text/plain": [
              "list"
            ]
          },
          "metadata": {
            "tags": []
          },
          "execution_count": 69
        }
      ]
    },
    {
      "cell_type": "code",
      "metadata": {
        "id": "KvwElHkKnZ2I",
        "colab_type": "code",
        "colab": {
          "base_uri": "https://localhost:8080/",
          "height": 33
        },
        "outputId": "32dea8e6-4efc-45ab-8161-7120787daef0"
      },
      "source": [
        "data_r.columns"
      ],
      "execution_count": null,
      "outputs": [
        {
          "output_type": "execute_result",
          "data": {
            "text/plain": [
              "Index(['Name', 'City', 'Cuisine Style', 'Price Range', 'soup'], dtype='object')"
            ]
          },
          "metadata": {
            "tags": []
          },
          "execution_count": 70
        }
      ]
    },
    {
      "cell_type": "code",
      "metadata": {
        "id": "l_nVCeg7o97h",
        "colab_type": "code",
        "colab": {}
      },
      "source": [
        "data_r.drop(columns=[\"Ranking\",\"Rating\",\"Number of Reviews\",\"Reviews\"],inplace=True)"
      ],
      "execution_count": null,
      "outputs": []
    },
    {
      "cell_type": "code",
      "metadata": {
        "id": "rVJcc5bFpc4N",
        "colab_type": "code",
        "colab": {}
      },
      "source": [
        "data_r.head()"
      ],
      "execution_count": null,
      "outputs": []
    },
    {
      "cell_type": "code",
      "metadata": {
        "id": "Qx89yfbWpfzy",
        "colab_type": "code",
        "colab": {}
      },
      "source": [
        "data_r[\"Cuisine Style\"] = [\" \".join(x) for x in data_r[\"Cuisine Style\"]]"
      ],
      "execution_count": null,
      "outputs": []
    },
    {
      "cell_type": "code",
      "metadata": {
        "id": "qXVoPfVlptWf",
        "colab_type": "code",
        "colab": {}
      },
      "source": [
        "data_r.head()"
      ],
      "execution_count": null,
      "outputs": []
    },
    {
      "cell_type": "code",
      "metadata": {
        "id": "hdfrTkcdqhIz",
        "colab_type": "code",
        "colab": {}
      },
      "source": [
        "#lowercase\n",
        "features = ['City',\"Cuisine Style\",\"Price Range\"]\n",
        "for feature in features:\n",
        "  data_r[feature] = data_r[feature].apply(lambda x:str.lower(x))"
      ],
      "execution_count": null,
      "outputs": []
    },
    {
      "cell_type": "code",
      "metadata": {
        "id": "b5R_VM-Zqzma",
        "colab_type": "code",
        "colab": {}
      },
      "source": [
        "#soupify\n",
        "data_r['soup'] = data_r[['City',\"Cuisine Style\",\"Price Range\"]].apply(lambda x:\" \".join(x),axis=1)"
      ],
      "execution_count": null,
      "outputs": []
    },
    {
      "cell_type": "code",
      "metadata": {
        "id": "O7ghr5ITq6lZ",
        "colab_type": "code",
        "colab": {}
      },
      "source": [
        "data_r[\"soup\"].head()"
      ],
      "execution_count": null,
      "outputs": []
    },
    {
      "cell_type": "code",
      "metadata": {
        "id": "W1wT5QyXrBHc",
        "colab_type": "code",
        "colab": {}
      },
      "source": [
        "from sklearn.feature_extraction.text import CountVectorizer\n",
        "from sklearn.metrics.pairwise import cosine_similarity\n",
        "from sklearn.feature_extraction.text import TfidfVectorizer\n",
        "\n",
        "count = CountVectorizer()\n",
        "matrix = count.fit_transform(data_r['soup'])"
      ],
      "execution_count": null,
      "outputs": []
    },
    {
      "cell_type": "code",
      "metadata": {
        "id": "PhDEPtxPrkDg",
        "colab_type": "code",
        "colab": {}
      },
      "source": [
        "matrix.shape"
      ],
      "execution_count": null,
      "outputs": []
    },
    {
      "cell_type": "code",
      "metadata": {
        "id": "PNCbnYHiro-M",
        "colab_type": "code",
        "colab": {}
      },
      "source": [
        "#due to memory limitations cosine similarity computed with 20k restaurants\n",
        "cosine_sim = cosine_similarity(matrix[:20_000], matrix[:20_000])"
      ],
      "execution_count": null,
      "outputs": []
    },
    {
      "cell_type": "code",
      "metadata": {
        "id": "GE4tXmmwsBB3",
        "colab_type": "code",
        "colab": {}
      },
      "source": [
        "data = data_r.reset_index()\n",
        "indices = pd.Series(data.index, index=data['Name'])"
      ],
      "execution_count": null,
      "outputs": []
    },
    {
      "cell_type": "code",
      "metadata": {
        "id": "XMr2C0FWsFhk",
        "colab_type": "code",
        "colab": {}
      },
      "source": [
        "def recommend_restaurants(Name, cosine_sim=cosine_sim):\n",
        "    idx = indices[Name] #get the index of the restaurant\n",
        "\n",
        "    sim_scores = list(enumerate(cosine_sim[idx]))# get similarity of restaurants to the one chosen\n",
        "\n",
        "    sim_scores = sorted(sim_scores, key=lambda x: x[1], reverse=True) # sort based on similarity\n",
        "\n",
        "    sim_scores = sim_scores[1:11] # get 10 most similar ones, except for 0 which is the chosen restaurant itself\n",
        " \n",
        "    restaurant_indices = [i[0] for i in sim_scores] # get the indices\n",
        "\n",
        "    result_sim = data['Name'].iloc[restaurant_indices].copy() # return top 10 most similar ones from the original data file\n",
        "    city_sim = data[\"City\"].iloc[restaurant_indices].copy()\n",
        "    cuisine_sim = data[\"Cuisine Style\"].iloc[restaurant_indices].copy()\n",
        "    price_sim = data[\"Price Range\"].iloc[restaurant_indices].copy()\n",
        "\n",
        "    cosine_similarity_score = [i[1] for i in sim_scores]\n",
        "    recommendation_and_score = pd.DataFrame({\"restaurant\":result_sim.tolist(), #dataframe with similar restaurants and their cos similarity scores\n",
        "                                             \"sim_score\":cosine_similarity_score,\n",
        "                                             \"city\":city_sim.to_list(),\n",
        "                                             \"cuisine\":cuisine_sim.to_list(),\n",
        "                                             \"price\":price_sim.to_list()}) \n",
        "\n",
        "    return recommendation_and_score"
      ],
      "execution_count": null,
      "outputs": []
    },
    {
      "cell_type": "code",
      "metadata": {
        "id": "N3jbkibdtJuU",
        "colab_type": "code",
        "colab": {
          "base_uri": "https://localhost:8080/",
          "height": 335
        },
        "outputId": "de70e515-9fb7-4d60-9e5a-318580209bc2"
      },
      "source": [
        "recommend_restaurants('Vezos')"
      ],
      "execution_count": null,
      "outputs": [
        {
          "output_type": "execute_result",
          "data": {
            "text/html": [
              "<div>\n",
              "<style scoped>\n",
              "    .dataframe tbody tr th:only-of-type {\n",
              "        vertical-align: middle;\n",
              "    }\n",
              "\n",
              "    .dataframe tbody tr th {\n",
              "        vertical-align: top;\n",
              "    }\n",
              "\n",
              "    .dataframe thead th {\n",
              "        text-align: right;\n",
              "    }\n",
              "</style>\n",
              "<table border=\"1\" class=\"dataframe\">\n",
              "  <thead>\n",
              "    <tr style=\"text-align: right;\">\n",
              "      <th></th>\n",
              "      <th>restaurant</th>\n",
              "      <th>sim_score</th>\n",
              "      <th>city</th>\n",
              "      <th>cuisine</th>\n",
              "      <th>price</th>\n",
              "    </tr>\n",
              "  </thead>\n",
              "  <tbody>\n",
              "    <tr>\n",
              "      <th>0</th>\n",
              "      <td>Taverna Ellada Hamburg</td>\n",
              "      <td>0.942809</td>\n",
              "      <td>Hamburg</td>\n",
              "      <td>[Mediterranean, European, Greek, Vegetarian Fr...</td>\n",
              "      <td>Mid-range</td>\n",
              "    </tr>\n",
              "    <tr>\n",
              "      <th>1</th>\n",
              "      <td>Restaurant Kouros</td>\n",
              "      <td>0.942809</td>\n",
              "      <td>Hamburg</td>\n",
              "      <td>[Mediterranean, European, Greek, Vegetarian Fr...</td>\n",
              "      <td>Mid-range</td>\n",
              "    </tr>\n",
              "    <tr>\n",
              "      <th>2</th>\n",
              "      <td>Taverna Nostalgia</td>\n",
              "      <td>0.942809</td>\n",
              "      <td>Hamburg</td>\n",
              "      <td>[Mediterranean, Greek, European, Vegetarian Fr...</td>\n",
              "      <td>Mid-range</td>\n",
              "    </tr>\n",
              "    <tr>\n",
              "      <th>3</th>\n",
              "      <td>Kypros</td>\n",
              "      <td>0.942809</td>\n",
              "      <td>Hamburg</td>\n",
              "      <td>[Mediterranean, European, Greek, Vegetarian Fr...</td>\n",
              "      <td>Mid-range</td>\n",
              "    </tr>\n",
              "    <tr>\n",
              "      <th>4</th>\n",
              "      <td>Nascherei</td>\n",
              "      <td>0.942809</td>\n",
              "      <td>Hamburg</td>\n",
              "      <td>[Mediterranean, European, Greek, Vegetarian Fr...</td>\n",
              "      <td>Mid-range</td>\n",
              "    </tr>\n",
              "    <tr>\n",
              "      <th>5</th>\n",
              "      <td>Taverna Omiros</td>\n",
              "      <td>0.942809</td>\n",
              "      <td>Hamburg</td>\n",
              "      <td>[Mediterranean, Greek, European, Vegetarian Fr...</td>\n",
              "      <td>Mid-range</td>\n",
              "    </tr>\n",
              "    <tr>\n",
              "      <th>6</th>\n",
              "      <td>Griekse Taverna</td>\n",
              "      <td>0.888889</td>\n",
              "      <td>Amsterdam</td>\n",
              "      <td>[Mediterranean, European, Greek, Seafood, Vege...</td>\n",
              "      <td>Mid-range</td>\n",
              "    </tr>\n",
              "    <tr>\n",
              "      <th>7</th>\n",
              "      <td>Aiolou 68</td>\n",
              "      <td>0.888889</td>\n",
              "      <td>Athens</td>\n",
              "      <td>[Seafood, Mediterranean, European, Greek, Vege...</td>\n",
              "      <td>Mid-range</td>\n",
              "    </tr>\n",
              "    <tr>\n",
              "      <th>8</th>\n",
              "      <td>Casa Franco</td>\n",
              "      <td>0.888889</td>\n",
              "      <td>Hamburg</td>\n",
              "      <td>[Seafood, Mediterranean, European, Spanish, Ve...</td>\n",
              "      <td>Mid-range</td>\n",
              "    </tr>\n",
              "    <tr>\n",
              "      <th>9</th>\n",
              "      <td>La Vela - Ristorante &amp; Weinbar</td>\n",
              "      <td>0.888889</td>\n",
              "      <td>Hamburg</td>\n",
              "      <td>[Italian, Seafood, Mediterranean, European, Ve...</td>\n",
              "      <td>Mid-range</td>\n",
              "    </tr>\n",
              "  </tbody>\n",
              "</table>\n",
              "</div>"
            ],
            "text/plain": [
              "                       restaurant  ...      price\n",
              "0          Taverna Ellada Hamburg  ...  Mid-range\n",
              "1               Restaurant Kouros  ...  Mid-range\n",
              "2               Taverna Nostalgia  ...  Mid-range\n",
              "3                          Kypros  ...  Mid-range\n",
              "4                       Nascherei  ...  Mid-range\n",
              "5                  Taverna Omiros  ...  Mid-range\n",
              "6                 Griekse Taverna  ...  Mid-range\n",
              "7                       Aiolou 68  ...  Mid-range\n",
              "8                     Casa Franco  ...  Mid-range\n",
              "9  La Vela - Ristorante & Weinbar  ...  Mid-range\n",
              "\n",
              "[10 rows x 5 columns]"
            ]
          },
          "metadata": {
            "tags": []
          },
          "execution_count": 73
        }
      ]
    }
  ]
}